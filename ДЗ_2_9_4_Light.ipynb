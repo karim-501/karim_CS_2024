{
  "cells": [
    {
      "cell_type": "markdown",
      "metadata": {
        "id": "view-in-github",
        "colab_type": "text"
      },
      "source": [
        "<a href=\"https://colab.research.google.com/github/karim-501/karim_CS_2024/blob/main/%D0%94%D0%97_2_9_4_Light.ipynb\" target=\"_parent\"><img src=\"https://colab.research.google.com/assets/colab-badge.svg\" alt=\"Open In Colab\"/></a>"
      ]
    },
    {
      "cell_type": "markdown",
      "metadata": {
        "id": "MH-3kVwvJYeP"
      },
      "source": [
        "\n",
        "# 2.9.4 Форматы файлов, кодировки и сохранение данных. Работа с файлами и каталогами"
      ]
    },
    {
      "cell_type": "markdown",
      "metadata": {
        "id": "gMwyKhlQJ1mf"
      },
      "source": [
        "## Задание 1"
      ]
    },
    {
      "cell_type": "markdown",
      "metadata": {
        "id": "Owu684lKKrjJ"
      },
      "source": [
        "**Условие:**\n",
        "Методами модуля ```os``` вывести содержание папки ```sample_data``` из корневой директории Google Colab.\n",
        "\n"
      ]
    },
    {
      "cell_type": "markdown",
      "metadata": {
        "id": "OCTvo3fHLaaJ"
      },
      "source": [
        "**Решение:**"
      ]
    },
    {
      "cell_type": "code",
      "execution_count": null,
      "metadata": {
        "colab": {
          "base_uri": "https://localhost:8080/"
        },
        "id": "f9_8IGndLeRO",
        "outputId": "a1ec0d3e-10a9-4b9d-924a-5af6c8bb066a"
      },
      "outputs": [
        {
          "output_type": "stream",
          "name": "stdout",
          "text": [
            "anscombe.json\n",
            "README.md\n",
            "mnist_train_small.csv\n",
            "california_housing_train.csv\n",
            "mnist_test.csv\n",
            "california_housing_test.csv\n"
          ]
        }
      ],
      "source": [
        "import os\n",
        "sample_data_path = '/content/sample_data'\n",
        "\n",
        "files = os.listdir(sample_data_path)\n",
        "for file in files:\n",
        "    print(file)"
      ]
    },
    {
      "cell_type": "markdown",
      "metadata": {
        "id": "g5S0h2-wKfGE"
      },
      "source": [
        "## Задание 2"
      ]
    },
    {
      "cell_type": "markdown",
      "metadata": {
        "id": "orX7BUzcPKKf"
      },
      "source": [
        "**Условие:**\n",
        "Создайте произвольный словарь из 10 элементов. Сохраните его в файл в формате ```.json```. Считайте данные из полученного файла в новый словарь и пересохраните его в формате ```.pickle```. Из вновь полученного файла считайте данные в новый словарь и сравните его с изначальным словарем.\n",
        "\n"
      ]
    },
    {
      "cell_type": "markdown",
      "metadata": {
        "id": "ESSLfwqEPKKn"
      },
      "source": [
        "**Решение:**"
      ]
    },
    {
      "cell_type": "code",
      "execution_count": null,
      "metadata": {
        "colab": {
          "base_uri": "https://localhost:8080/"
        },
        "id": "y8HOlaNLPKKq",
        "outputId": "4d6011dc-36d6-482a-bdab-5ff227ddbcf2"
      },
      "outputs": [
        {
          "output_type": "stream",
          "name": "stdout",
          "text": [
            "Словарь из json равен исходному словарю: True\n",
            "Словарь из pickle равен исходному словарю: True\n"
          ]
        }
      ],
      "source": [
        "import json\n",
        "import pickle\n",
        "\n",
        "\n",
        "my_dict = {\n",
        "    'name': 'John',\n",
        "    'age': 30,\n",
        "    'city': 'New York',\n",
        "    'email': 'john@example.com',\n",
        "    'phone': '123-456-7890',\n",
        "    'occupation': 'developer',\n",
        "    'hobbies': ['reading', 'traveling', 'hiking'],\n",
        "    'skills': {'python': 'advanced', 'java': 'intermediate', 'sql': 'beginner'},\n",
        "    'is_student': False,\n",
        "    'income': None\n",
        "}\n",
        "\n",
        "\n",
        "with open('data.json', 'w') as json_file:\n",
        "    json.dump(my_dict, json_file)\n",
        "\n",
        "\n",
        "with open('data.json', 'r') as json_file:\n",
        "    new_dict_from_json = json.load(json_file)\n",
        "\n",
        "\n",
        "with open('data.pickle', 'wb') as pickle_file:\n",
        "    pickle.dump(new_dict_from_json, pickle_file)\n",
        "\n",
        "\n",
        "with open('data.pickle', 'rb') as pickle_file:\n",
        "    new_dict_from_pickle = pickle.load(pickle_file)\n",
        "\n",
        "\n",
        "print(\"Словарь из json равен исходному словарю:\", new_dict_from_json == my_dict)\n",
        "print(\"Словарь из pickle равен исходному словарю:\", new_dict_from_pickle == my_dict)\n"
      ]
    }
  ],
  "metadata": {
    "colab": {
      "provenance": [],
      "include_colab_link": true
    },
    "kernelspec": {
      "display_name": "Python 3 (ipykernel)",
      "language": "python",
      "name": "python3"
    },
    "language_info": {
      "codemirror_mode": {
        "name": "ipython",
        "version": 3
      },
      "file_extension": ".py",
      "mimetype": "text/x-python",
      "name": "python",
      "nbconvert_exporter": "python",
      "pygments_lexer": "ipython3",
      "version": "3.11.7"
    }
  },
  "nbformat": 4,
  "nbformat_minor": 0
}