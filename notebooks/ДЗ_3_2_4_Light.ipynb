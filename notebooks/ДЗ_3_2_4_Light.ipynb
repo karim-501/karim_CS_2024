{
  "cells": [
    {
      "cell_type": "markdown",
      "metadata": {
        "id": "MH-3kVwvJYeP"
      },
      "source": [
        "\n",
        "# 3.2.4 Математические и статистические операции"
      ]
    },
    {
      "cell_type": "markdown",
      "metadata": {
        "id": "gMwyKhlQJ1mf"
      },
      "source": [
        "## Задание 1"
      ]
    },
    {
      "cell_type": "markdown",
      "metadata": {
        "id": "Owu684lKKrjJ"
      },
      "source": [
        "**Условие:**\n",
        "Создайте случайный целочисленный массив ```ndarray``` размера ```(10,10)``` элементов, принадлежащих отрезку ```[0,10]```. С помощью методов ```np.mean()``` и ```np.std()``` центрируйте и нормируйте элементы в столбцах. Найдите разброс полученных значений в полученной матрице. Используйте ```np.random.seed(1000)``` перед генерацией массива для воспроизводимости результатов.\n",
        "\n",
        "**Формат ответа:**\n",
        "Кортеж чисел (например, ```(-0.45,0.89)```)\n",
        "\n"
      ]
    },
    {
      "cell_type": "markdown",
      "metadata": {
        "id": "OCTvo3fHLaaJ"
      },
      "source": [
        "**Решение:**"
      ]
    },
    {
      "cell_type": "code",
      "execution_count": null,
      "metadata": {
        "colab": {
          "base_uri": "https://localhost:8080/"
        },
        "id": "f9_8IGndLeRO",
        "outputId": "cfb45b3d-4579-4fd1-9b46-c7d61bdc7965"
      },
      "outputs": [
        {
          "output_type": "stream",
          "name": "stdout",
          "text": [
            "Исходный массив:\n",
            "[[ 3  7  7  0  1  0  9  8  9  4]\n",
            " [10 10  9  4  4  2  9  8  2  4]\n",
            " [ 2  5 10  5  4  0  4  2  5 10]\n",
            " [ 4  7  0  4  7  1  0  2  1  7]\n",
            " [ 1  5  6  5  7  8  8  2  2  9]\n",
            " [ 6 10 10  3  3  6  5  8  4  1]\n",
            " [ 0  9  1  8  8  0  2  9  3 10]\n",
            " [ 9  6  2  9  5  8  5  6  9  6]\n",
            " [ 7  6  3  4  8  1  3  7  2  0]\n",
            " [ 4  4  1  6  5  1  4  1  7  4]]\n",
            "\n",
            "Центрированный и нормированный массив:\n",
            "[[-0.50495552  0.04944682  0.55945325 -2.         -1.92506684 -0.86204366\n",
            "   1.44148324  0.89950042  1.62229492 -0.4472136 ]\n",
            " [ 1.70422489  1.53285135  1.09226586 -0.33333333 -0.5500191  -0.2234928\n",
            "   1.44148324  0.89950042 -0.84641474 -0.4472136 ]\n",
            " [-0.82055272 -0.93948954  1.35867217  0.08333333 -0.5500191  -0.86204366\n",
            "  -0.31642315 -1.0993894   0.21160368  1.34164079]\n",
            " [-0.18935832  0.04944682 -1.30539091 -0.33333333  0.82502865 -0.54276823\n",
            "  -1.72274826 -1.0993894  -1.19908755  0.4472136 ]\n",
            " [-1.13614993 -0.93948954  0.29304694  0.08333333  0.82502865  1.69215977\n",
            "   1.08990196 -1.0993894  -0.84641474  1.04349839]\n",
            " [ 0.44183608  1.53285135  1.35867217 -0.75       -1.00836835  1.05360891\n",
            "   0.03515813  0.89950042 -0.14106912 -1.34164079]\n",
            " [-1.45174713  1.03838317 -1.0389846   1.33333333  1.2833779  -0.86204366\n",
            "  -1.0195857   1.23264872 -0.49374193  1.34164079]\n",
            " [ 1.38862769 -0.44502136 -0.77257829  1.75       -0.09166985  1.69215977\n",
            "   0.03515813  0.23320381  1.62229492  0.1490712 ]\n",
            " [ 0.75743328 -0.44502136 -0.50617198 -0.33333333  1.2833779  -0.54276823\n",
            "  -0.66800443  0.56635211 -0.84641474 -1.63978318]\n",
            " [-0.18935832 -1.43395771 -1.0389846   0.5        -0.09166985 -0.54276823\n",
            "  -0.31642315 -1.4325377   0.9169493  -0.4472136 ]]\n",
            "\n",
            "Разброс значений в массиве:\n",
            "0.9999999999999999\n"
          ]
        }
      ],
      "source": [
        "import numpy as np\n",
        "\n",
        "np.random.seed(1000)\n",
        "array = np.random.randint(0, 11, (10, 10))\n",
        "\n",
        "mean_array = np.mean(array, axis=0)\n",
        "std_array = np.std(array, axis=0)\n",
        "\n",
        "centered_normalized_array = (array - mean_array) / std_array\n",
        "\n",
        "variance = np.var(centered_normalized_array)\n",
        "\n",
        "print(\"Исходный массив:\")\n",
        "print(array)\n",
        "print(\"\\nЦентрированный и нормированный массив:\")\n",
        "print(centered_normalized_array)\n",
        "print(\"\\nРазброс значений в массиве:\")\n",
        "print(variance)"
      ]
    },
    {
      "cell_type": "markdown",
      "metadata": {
        "id": "g5S0h2-wKfGE"
      },
      "source": [
        "## Задание 2"
      ]
    },
    {
      "cell_type": "markdown",
      "metadata": {
        "id": "orX7BUzcPKKf"
      },
      "source": [
        "**Условие:**\n",
        "Создайте случайный целочисленный массив ```ndarray``` размера ```(15,15)``` элементов, принадлежащих отрезку ```[0,10]```. С помощью методов булевых массивов найдите количество четных элементов в полученном массиве. Используйте ```np.random.seed(1000)``` перед генерацией массива для воспроизводимости результатов.\n",
        "\n",
        "**Формат ответа:**\n",
        "Число (например, ```56```)\n"
      ]
    },
    {
      "cell_type": "markdown",
      "metadata": {
        "id": "ESSLfwqEPKKn"
      },
      "source": [
        "**Решение:**"
      ]
    },
    {
      "cell_type": "code",
      "execution_count": null,
      "metadata": {
        "colab": {
          "base_uri": "https://localhost:8080/"
        },
        "id": "y8HOlaNLPKKq",
        "outputId": "82add239-af0e-451d-8d60-5e15808575d4"
      },
      "outputs": [
        {
          "output_type": "stream",
          "name": "stdout",
          "text": [
            "Исходный массив:\n",
            "[[ 3  7  7  0  1  0  9  8  9  4 10 10  9  4  4]\n",
            " [ 2  9  8  2  4  2  5 10  5  4  0  4  2  5 10]\n",
            " [ 4  7  0  4  7  1  0  2  1  7  1  5  6  5  7]\n",
            " [ 8  8  2  2  9  6 10 10  3  3  6  5  8  4  1]\n",
            " [ 0  9  1  8  8  0  2  9  3 10  9  6  2  9  5]\n",
            " [ 8  5  6  9  6  7  6  3  4  8  1  3  7  2  0]\n",
            " [ 4  4  1  6  5  1  4  1  7  4  5  0  6  2  9]\n",
            " [ 7  0 10  8  0  5  3  0  4  3  3  3  6  4  7]\n",
            " [ 2  4  4  2  4  1  2  3  9  0  5  2  1  0  6]\n",
            " [ 8  9  6  1  1  0  8  4  2  2  1 10  8  2  0]\n",
            " [ 1  1  1  3  6  4  6  8  1  9  3 10  5  0 10]\n",
            " [ 1  1  6  9 10  5  1  1  8  7  3  3  9  0  2]\n",
            " [ 0  2  8 10  5  3  2  5  3  7  3  4  9  4 10]\n",
            " [10  0  6  4  7  5  0  7  9  5  6 10  3  9 10]\n",
            " [ 8  7  0  2  3  3  7  1  6  3  4  2  8  3  0]]\n",
            "\n",
            "Количество четных элементов в массиве:\n",
            "124\n"
          ]
        }
      ],
      "source": [
        "import numpy as np\n",
        "\n",
        "np.random.seed(1000)\n",
        "array = np.random.randint(0, 11, (15, 15))\n",
        "\n",
        "even_elements = array[array % 2 == 0]\n",
        "count_even_elements = len(even_elements)\n",
        "\n",
        "print(\"Исходный массив:\")\n",
        "print(array)\n",
        "print(\"\\nКоличество четных элементов в массиве:\")\n",
        "print(count_even_elements)\n"
      ]
    },
    {
      "cell_type": "markdown",
      "metadata": {
        "id": "tq0Fcrg1KfXQ"
      },
      "source": [
        "## Задание 3"
      ]
    },
    {
      "cell_type": "markdown",
      "metadata": {
        "id": "3xp-jyyHPMIb"
      },
      "source": [
        "**Условие:**\n",
        "Напишите функцию, которая принимает на вход квадратную матрицу и находит ее определитель. Если определитель отличен от нуля, то функция возвращает определитель матрицы, которая является обратной к транспанированной исходной матрице, иначе выдает ноль. Проверьте работоспособность на матрице, указанной в пункте решение.\n",
        "\n",
        "**Формат ответа:**\n",
        "Число (например, ```2.7```)\n",
        "\n",
        "\n"
      ]
    },
    {
      "cell_type": "markdown",
      "metadata": {
        "id": "H5ZlBsI2PMIi"
      },
      "source": [
        "**Решение:**"
      ]
    },
    {
      "cell_type": "code",
      "execution_count": null,
      "metadata": {
        "id": "6amsYUCoPMIn"
      },
      "outputs": [],
      "source": [
        "_INPUT_MATR_ = np.array([[2,5,7],\n",
        "                        [6,3,4],\n",
        "                        [5,-2,-3]])"
      ]
    },
    {
      "cell_type": "code",
      "execution_count": null,
      "metadata": {
        "colab": {
          "base_uri": "https://localhost:8080/"
        },
        "id": "2IsoWN0glMYv",
        "outputId": "5e6475d7-caca-480d-ff8a-b1d507b0aa05"
      },
      "outputs": [
        {
          "output_type": "stream",
          "name": "stdout",
          "text": [
            "Определитель и обратная транспонированная матрица:\n",
            "(-1.0000000000000284, array([[  1., -38.,  27.],\n",
            "       [ -1.,  41., -29.],\n",
            "       [  1., -34.,  24.]]))\n"
          ]
        }
      ],
      "source": [
        "import numpy as np\n",
        "\n",
        "def find_determinant_and_inverse_transpose(matrix):\n",
        "    det = np.linalg.det(matrix)\n",
        "    if det != 0:\n",
        "        inverse_transpose = np.linalg.inv(matrix.T)\n",
        "        return det, inverse_transpose\n",
        "    else:\n",
        "        return 0\n",
        "\n",
        "\n",
        "input_matrix = np.array([[2, 5, 7], [6, 3, 4], [5, -2, -3]])\n",
        "result = find_determinant_and_inverse_transpose(input_matrix)\n",
        "\n",
        "print(\"Определитель и обратная транспонированная матрица:\")\n",
        "print(result)"
      ]
    }
  ],
  "metadata": {
    "colab": {
      "provenance": []
    },
    "kernelspec": {
      "display_name": "Python 3 (ipykernel)",
      "language": "python",
      "name": "python3"
    },
    "language_info": {
      "codemirror_mode": {
        "name": "ipython",
        "version": 3
      },
      "file_extension": ".py",
      "mimetype": "text/x-python",
      "name": "python",
      "nbconvert_exporter": "python",
      "pygments_lexer": "ipython3",
      "version": "3.11.7"
    }
  },
  "nbformat": 4,
  "nbformat_minor": 0
}