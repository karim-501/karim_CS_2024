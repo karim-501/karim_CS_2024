{
  "cells": [
    {
      "cell_type": "markdown",
      "metadata": {
        "id": "MH-3kVwvJYeP"
      },
      "source": [
        "\n",
        "# 2.7 Обработка исключений"
      ]
    },
    {
      "cell_type": "markdown",
      "metadata": {
        "id": "Mv3Lt4M3KfxS"
      },
      "source": [
        "## Задание 1"
      ]
    },
    {
      "cell_type": "markdown",
      "metadata": {
        "id": "wdbYgJfkPPCb"
      },
      "source": [
        "**Условие:** С помощью конструкции ```try...except...``` реализуйте перехват исключения при вводе пользователем не числового или нулевого значения в функции подсчета обратного значения числа. Выведите предупреждение с описанием ошибки. Какой тип ошибки перехватывается при вводе не числового значения?\n",
        "\n",
        "**Формат ответа:** Строка (например, ```'IndexError'```)"
      ]
    },
    {
      "cell_type": "markdown",
      "metadata": {
        "id": "bIzgjMPtPPCm"
      },
      "source": [
        "**Решение:**"
      ]
    },
    {
      "cell_type": "code",
      "execution_count": null,
      "metadata": {
        "colab": {
          "base_uri": "https://localhost:8080/"
        },
        "id": "L_j90Z-UPPCt",
        "outputId": "e38d67a0-0157-4815-dd43-e9489d55f792"
      },
      "outputs": [
        {
          "output_type": "stream",
          "name": "stdout",
          "text": [
            "Введите число: 55\n",
            "Обратное значение числа: 0.01818181818181818\n",
            "Спасибо за использование программы!\n"
          ]
        }
      ],
      "source": [
        "def inverse_number():\n",
        "    try:\n",
        "        number = float(input(\"Введите число: \"))\n",
        "        if number == 0:\n",
        "            raise ValueError(\"Обратное значение для нуля не существует\")\n",
        "        inverse = 1 / number\n",
        "        print(\"Обратное значение числа:\", inverse)\n",
        "    except ValueError as e:\n",
        "        print(\"Ошибка:\", e)\n",
        "    except ZeroDivisionError:\n",
        "        print(\"Ошибка: Деление на ноль недопустимо\")\n",
        "    finally:\n",
        "        print(\"Спасибо за использование программы!\")\n",
        "\n",
        "inverse_number()"
      ]
    },
    {
      "cell_type": "markdown",
      "metadata": {
        "id": "_xCYfSFPnlAy"
      },
      "source": [
        "## Задание 2"
      ]
    },
    {
      "cell_type": "markdown",
      "metadata": {
        "id": "GybRlM7onlA3"
      },
      "source": [
        "**Условие:**\n",
        "Напишите функцию безопасного открытия файла, в которой с помощью конструкции ```try...except...``` реализуется перехват исключения при невозможности открытия файла в случае его отсутствия. Какой тип исключения при этом возникает?\n",
        "\n",
        "**Формат ответа:** Строка (например, ```'IndexError'```)"
      ]
    },
    {
      "cell_type": "markdown",
      "metadata": {
        "id": "MX5hE3funlA6"
      },
      "source": [
        "**Решение:**"
      ]
    },
    {
      "cell_type": "code",
      "execution_count": null,
      "metadata": {
        "colab": {
          "base_uri": "https://localhost:8080/"
        },
        "id": "wof6b39wnlA9",
        "outputId": "57c0a19b-84b3-4ece-d399-25676ef99745"
      },
      "outputs": [
        {
          "output_type": "stream",
          "name": "stdout",
          "text": [
            "Ошибка: Файл не найден\n",
            "Операция завершена\n"
          ]
        }
      ],
      "source": [
        "def safe_open_file(filename, mode):\n",
        "    try:\n",
        "        file = open(filename, mode)\n",
        "        print(\"Файл успешно открыт\")\n",
        "        # Здесь можно добавить дополнительные операции с файлом, если нужно\n",
        "        file.close()\n",
        "    except FileNotFoundError:\n",
        "        print(\"Ошибка: Файл не найден\")\n",
        "    except IOError:\n",
        "        print(\"Ошибка: Не удается открыть файл\")\n",
        "    except Exception as e:\n",
        "        print(\"Произошла ошибка:\", e)\n",
        "    finally:\n",
        "        print(\"Операция завершена\")\n",
        "\n",
        "# Пример использования функции:\n",
        "filename = \"example.txt\"\n",
        "mode = \"r\"\n",
        "safe_open_file(filename, mode)"
      ]
    }
  ],
  "metadata": {
    "colab": {
      "provenance": []
    },
    "kernelspec": {
      "display_name": "Python 3 (ipykernel)",
      "language": "python",
      "name": "python3"
    },
    "language_info": {
      "codemirror_mode": {
        "name": "ipython",
        "version": 3
      },
      "file_extension": ".py",
      "mimetype": "text/x-python",
      "name": "python",
      "nbconvert_exporter": "python",
      "pygments_lexer": "ipython3",
      "version": "3.11.7"
    }
  },
  "nbformat": 4,
  "nbformat_minor": 0
}