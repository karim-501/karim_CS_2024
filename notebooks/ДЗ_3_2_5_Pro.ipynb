{
  "cells": [
    {
      "cell_type": "markdown",
      "metadata": {
        "id": "MH-3kVwvJYeP"
      },
      "source": [
        "\n",
        "# 3.2.5 Файловый ввод-вывод массивов"
      ]
    },
    {
      "cell_type": "markdown",
      "metadata": {
        "id": "gMwyKhlQJ1mf"
      },
      "source": [
        "## Задание 1"
      ]
    },
    {
      "cell_type": "markdown",
      "metadata": {
        "id": "Owu684lKKrjJ"
      },
      "source": [
        "**Условие:**\n",
        "Создайте массив ```ndarray``` размера ```(15,15)``` элементов, взятых из стандартного нормального распределения. Запишите данный массив в файл в бинарном виде. Считайте массив из файла, с использованием целочисленного типа данных. Найдите абсолютное значение разности сумм элементов исходного массива и считанного из файла. Используйте ```np.random.seed(1000)``` перед генерацией массива для воспроизводимости результатов.\n",
        "\n",
        "**Формат ответа:**\n",
        "Число (например, ```102.4```)\n",
        "\n"
      ]
    },
    {
      "cell_type": "markdown",
      "metadata": {
        "id": "OCTvo3fHLaaJ"
      },
      "source": [
        "**Решение:**"
      ]
    },
    {
      "cell_type": "code",
      "execution_count": null,
      "metadata": {
        "colab": {
          "base_uri": "https://localhost:8080/"
        },
        "id": "f9_8IGndLeRO",
        "outputId": "22db1acc-8b38-4b4f-9a1c-95d8fa5967a4"
      },
      "outputs": [
        {
          "output_type": "stream",
          "name": "stdout",
          "text": [
            "Абсолютное значение разности сумм элементов исходного массива и считанного из файла: 0.0\n"
          ]
        }
      ],
      "source": [
        "\n",
        "import numpy as np\n",
        "\n",
        "with open('normal_array.bin', 'rb') as f:\n",
        "    array_read = np.fromfile(f, dtype=np.float64).reshape(15, 15)\n",
        "\n",
        "abs_diff_sum = np.abs(np.sum(array) - np.sum(array_read))\n",
        "\n",
        "print(\"Абсолютное значение разности сумм элементов исходного массива и считанного из файла:\", abs_diff_sum)\n"
      ]
    },
    {
      "cell_type": "markdown",
      "metadata": {
        "id": "g5S0h2-wKfGE"
      },
      "source": [
        "## Задание 2"
      ]
    },
    {
      "cell_type": "markdown",
      "metadata": {
        "id": "orX7BUzcPKKf"
      },
      "source": [
        "**Условие:**\n",
        "Создайте массив ```ndarray``` размера ```100```, взятых из стандартного нормального распределения. Запишите данный массив в файл в бинарном виде с использованием функций ```np.save()``` и ```np.savez_compressed()```. Найдите абсолютное значение разности байтовых размеров полученных файлов. Используйте ```np.random.seed(1000)``` перед генерацией массива для воспроизводимости результатов.\n",
        "\n",
        "**Формат ответа:**\n",
        "Число (например, ```45```)\n"
      ]
    },
    {
      "cell_type": "markdown",
      "metadata": {
        "id": "ESSLfwqEPKKn"
      },
      "source": [
        "**Решение:**"
      ]
    },
    {
      "cell_type": "code",
      "execution_count": null,
      "metadata": {
        "colab": {
          "base_uri": "https://localhost:8080/"
        },
        "id": "y8HOlaNLPKKq",
        "outputId": "99de493b-5bee-45df-d9f2-7985336f4fdb"
      },
      "outputs": [
        {
          "output_type": "stream",
          "name": "stdout",
          "text": [
            "0\n"
          ]
        }
      ],
      "source": [
        "import numpy as np\n",
        "\n",
        "\n",
        "np.random.seed(1000)\n",
        "arr = np.random.randn(100)\n",
        "\n",
        "np.save('array.npy', arr)\n",
        "\n",
        "\n",
        "np.savez_compressed('array_compressed.npz', arr=arr)\n",
        "\n",
        "filesize_np = np.array(np.load('array.npy')).nbytes\n",
        "filesize_npz = np.array(np.load('array_compressed.npz')['arr']).nbytes\n",
        "diff_bytes = abs(filesize_np - filesize_npz)\n",
        "print(diff_bytes)"
      ]
    }
  ],
  "metadata": {
    "colab": {
      "provenance": []
    },
    "kernelspec": {
      "display_name": "Python 3 (ipykernel)",
      "language": "python",
      "name": "python3"
    },
    "language_info": {
      "codemirror_mode": {
        "name": "ipython",
        "version": 3
      },
      "file_extension": ".py",
      "mimetype": "text/x-python",
      "name": "python",
      "nbconvert_exporter": "python",
      "pygments_lexer": "ipython3",
      "version": "3.11.7"
    }
  },
  "nbformat": 4,
  "nbformat_minor": 0
}