{
  "cells": [
    {
      "cell_type": "markdown",
      "metadata": {
        "id": "MH-3kVwvJYeP"
      },
      "source": [
        "# 2.4 Управляющие структуры. Условные ветвления и циклы"
      ]
    },
    {
      "cell_type": "markdown",
      "metadata": {
        "id": "gMwyKhlQJ1mf"
      },
      "source": [
        "## Задание 1"
      ]
    },
    {
      "cell_type": "markdown",
      "metadata": {
        "id": "Owu684lKKrjJ"
      },
      "source": [
        "Вычислить приблизительное значение экспоненциальной функции с использованием ряда Тейлора:\n",
        "$$\n",
        "e^x=\\sum_{n=0}^{100} {\\frac {x^n} {n!}}.\n",
        "$$\n",
        "Найдите значение $e^{20}$, округленное до 5 знаков после запятой.\n",
        "\n",
        "**Формат ответа:**\n",
        "Число (например, ```3213156.11234```)"
      ]
    },
    {
      "cell_type": "markdown",
      "metadata": {
        "id": "OCTvo3fHLaaJ"
      },
      "source": [
        "**Решение:**"
      ]
    },
    {
      "cell_type": "code",
      "execution_count": null,
      "metadata": {
        "id": "f9_8IGndLeRO"
      },
      "outputs": [],
      "source": []
    },
    {
      "cell_type": "markdown",
      "metadata": {
        "id": "g5S0h2-wKfGE"
      },
      "source": [
        "## Задание 2"
      ]
    },
    {
      "cell_type": "markdown",
      "metadata": {
        "id": "orX7BUzcPKKf"
      },
      "source": [
        "**Условие:**\n",
        "Найдите среднее арифметическое всех **простых** делителей числа $n$, заданного пользователем. Дайте ответ для $n = 125632$. Требуется сперва получить лист делителей, а потом уже найти среднее арифметическое.\n",
        "\n",
        "**Формат ответа:** Число (например, ```2112.87```)"
      ]
    },
    {
      "cell_type": "markdown",
      "metadata": {
        "id": "ESSLfwqEPKKn"
      },
      "source": [
        "**Решение:**"
      ]
    },
    {
      "cell_type": "code",
      "execution_count": null,
      "metadata": {
        "id": "y8HOlaNLPKKq"
      },
      "outputs": [],
      "source": []
    },
    {
      "cell_type": "markdown",
      "metadata": {
        "id": "tq0Fcrg1KfXQ"
      },
      "source": [
        "## Задание 3"
      ]
    },
    {
      "cell_type": "markdown",
      "metadata": {
        "id": "3xp-jyyHPMIb"
      },
      "source": [
        "**Условие:** Создайте игру, в которой пользователь должен угадать заранее случайным образом выбранное целое число от 1 до 100. В случае неправильного ответа программа должна делать подсказки вида: это число меньше(больше), чем загаданное.  Используйте модуль ```random``` и цикл ```while```. Не забудьте поставить условие выхода, например, при вводе символа *. Сыграйте с машиной в эту игру 3 раза(в каждой игре до выигрыша) и укажите среднее значение попыток до успешного угадывания.\n",
        "\n",
        "**Формат ответа:** Число (например, ```8```)"
      ]
    },
    {
      "cell_type": "markdown",
      "metadata": {
        "id": "H5ZlBsI2PMIi"
      },
      "source": [
        "**Решение:**"
      ]
    },
    {
      "cell_type": "code",
      "execution_count": null,
      "metadata": {
        "id": "6amsYUCoPMIn"
      },
      "outputs": [],
      "source": [
        "import random\n",
        "\n",
        "number = random.randint(1, 100)\n",
        "popitka = 0\n",
        "\n",
        "while True:\n",
        "  num = input(\"Введите число от 1 до 100 (или * для выхода): \")\n",
        "  if num == \"*\":\n",
        "    print(\"Спасибо за игру!\")\n",
        "    break\n",
        "  num = int(num)\n",
        "  popitka += 1\n",
        "  if num == number:\n",
        "    print(\"Поздравляем! Вы угадали число за \" + str(popitka) + \" попыток.\")\n",
        "    break\n",
        "  elif num < number:\n",
        "    print(\"Загаданное число больше\")\n",
        "  else:\n",
        "    print(\"Загаданное число меньше\")\n",
        "popitka = 0\n",
        "for i in range(2):\n",
        "  number = random.randint(1, 100)\n",
        "  popitka += 0\n",
        "\n",
        "  while True:\n",
        "    num = input(\"Введите число от 1 до 100 (или * для выхода): \")\n",
        "    if num == \"*\":\n",
        "      break\n",
        "    num = int(num)\n",
        "    popitka += 1\n",
        "    if num == number:\n",
        "      break\n",
        "    elif num < number:\n",
        "      print(\"Загаданное число больше.\")\n",
        "    else:\n",
        "      print(\"Загаданное число меньше.\")\n",
        "\n",
        "print(\"Среднее значение попыток: \" + str(popitka / 3))\n"
      ]
    }
  ],
  "metadata": {
    "colab": {
      "provenance": []
    },
    "kernelspec": {
      "display_name": "Python 3 (ipykernel)",
      "language": "python",
      "name": "python3"
    },
    "language_info": {
      "codemirror_mode": {
        "name": "ipython",
        "version": 3
      },
      "file_extension": ".py",
      "mimetype": "text/x-python",
      "name": "python",
      "nbconvert_exporter": "python",
      "pygments_lexer": "ipython3",
      "version": "3.11.7"
    }
  },
  "nbformat": 4,
  "nbformat_minor": 0
}