{
  "cells": [
    {
      "cell_type": "markdown",
      "metadata": {
        "id": "MH-3kVwvJYeP"
      },
      "source": [
        "# 2.8.2 Создание собственных классов"
      ]
    },
    {
      "cell_type": "markdown",
      "metadata": {
        "id": "gMwyKhlQJ1mf"
      },
      "source": [
        "## Задание 1"
      ]
    },
    {
      "cell_type": "markdown",
      "metadata": {
        "id": "Owu684lKKrjJ"
      },
      "source": [
        "**Условие:** Создайте собственный класс ```Person``` работника компании. Добавьте следующие атрибуты данных, использую конструктор ```__init__```:\n",
        "\n",
        "*   ```name```(фамилия)\n",
        "*   ```job```(должность)\n",
        "*   ```pai```(зарплата)\n",
        "\n",
        "Создайте метод класса ```person_raise(self, prcnt)```, который повышает зарплату на ```prcnt``` процентов от имеющегося значения. Создайте работника и выведите кортеж с 2мя значениями: (зарплата при создании работника, зарплата после повышения на 20%)\n",
        "\n",
        "**Формат ответа:** кортеж (например, ```(150, 200)```)"
      ]
    },
    {
      "cell_type": "markdown",
      "metadata": {
        "id": "puOIDx3DH8QF"
      },
      "source": [
        "**Решение:**"
      ]
    },
    {
      "cell_type": "code",
      "execution_count": null,
      "metadata": {
        "colab": {
          "base_uri": "https://localhost:8080/"
        },
        "id": "RGrAqdVRH8QF",
        "outputId": "089a3fd1-2448-4245-a24e-83eb396a49c9"
      },
      "outputs": [
        {
          "output_type": "stream",
          "name": "stdout",
          "text": [
            "(150, 180.0)\n"
          ]
        }
      ],
      "source": [
        "class Person:\n",
        "    def __init__(self, name, job, pay):\n",
        "        self.name = name\n",
        "        self.job = job\n",
        "        self.pay = pay\n",
        "\n",
        "    def person_raise(self, prcnt):\n",
        "        self.pay += self.pay * prcnt / 100\n",
        "\n",
        "\n",
        "employee = Person(\"Иванов\", \"инженер\", 150)\n",
        "\n",
        "\n",
        "initial_pay = employee.pay\n",
        "\n",
        "\n",
        "employee.person_raise(20)\n",
        "\n",
        "\n",
        "raised_pay = employee.pay\n",
        "\n",
        "\n",
        "result = (initial_pay, raised_pay)\n",
        "print(result)"
      ]
    },
    {
      "cell_type": "markdown",
      "metadata": {
        "id": "g5S0h2-wKfGE"
      },
      "source": [
        "## Задание 2"
      ]
    },
    {
      "cell_type": "markdown",
      "metadata": {
        "id": "orX7BUzcPKKf"
      },
      "source": [
        "**Условие:** Создайте класс ```Manager``` наследника класса ```Person```, который имеет дополнительный атрибут данных ```client_counts```(количество клиентов). В классе ```Manager``` создайте метод ```manager_raise()```, который\n",
        "увеличивает количество клиентов менеджера на 1 и зарплату менеджера на 1%. Выведите кортеж с 2мя значениями: (зарплата менеджера при создании, зарплата после добавления 10 клиентов). Замечание: зарплата менеджера должна быть повышена с использованием методов наследуемого класса.\n",
        "\n",
        "**Формат ответа:** кортеж (например, ```(150, 170)```)\n"
      ]
    },
    {
      "cell_type": "markdown",
      "metadata": {
        "id": "ESSLfwqEPKKn"
      },
      "source": [
        "**Решение:**"
      ]
    },
    {
      "cell_type": "code",
      "execution_count": null,
      "metadata": {
        "colab": {
          "base_uri": "https://localhost:8080/"
        },
        "id": "y8HOlaNLPKKq",
        "outputId": "f90666bc-c750-4100-c8c2-5124dee5f7d1"
      },
      "outputs": [
        {
          "output_type": "stream",
          "name": "stdout",
          "text": [
            "(150, 165.69331881168068)\n"
          ]
        }
      ],
      "source": [
        "class Manager(Person):\n",
        "    def __init__(self, name, job, pay, client_counts):\n",
        "        super().__init__(name, job, pay)\n",
        "        self.client_counts = client_counts\n",
        "\n",
        "    def manager_raise(self):\n",
        "        self.client_counts += 1\n",
        "        self.person_raise(1)\n",
        "\n",
        "\n",
        "manager = Manager(\"Петров\", \"менеджер\", 150, 5)\n",
        "\n",
        "\n",
        "initial_pay = manager.pay\n",
        "\n",
        "\n",
        "for _ in range(10):\n",
        "    manager.manager_raise()\n",
        "\n",
        "\n",
        "raised_pay = manager.pay\n",
        "\n",
        "\n",
        "result = (initial_pay, raised_pay)\n",
        "print(result)"
      ]
    }
  ],
  "metadata": {
    "colab": {
      "provenance": []
    },
    "kernelspec": {
      "display_name": "Python 3 (ipykernel)",
      "language": "python",
      "name": "python3"
    },
    "language_info": {
      "codemirror_mode": {
        "name": "ipython",
        "version": 3
      },
      "file_extension": ".py",
      "mimetype": "text/x-python",
      "name": "python",
      "nbconvert_exporter": "python",
      "pygments_lexer": "ipython3",
      "version": "3.11.7"
    }
  },
  "nbformat": 4,
  "nbformat_minor": 0
}