{
  "cells": [
    {
      "cell_type": "markdown",
      "metadata": {
        "id": "MH-3kVwvJYeP"
      },
      "source": [
        "\n",
        "# 3.2.1 Быстрые поэлементные операции над массивами"
      ]
    },
    {
      "cell_type": "markdown",
      "metadata": {
        "id": "gMwyKhlQJ1mf"
      },
      "source": [
        "## Задание 1"
      ]
    },
    {
      "cell_type": "markdown",
      "metadata": {
        "id": "Owu684lKKrjJ"
      },
      "source": [
        "**Условие:**\n",
        "Создайте произвольный массив ```ndarray``` из 10 элементов типа ```float16```. Присутствие ненулевых дробных частей у элементов обязательно. С использованием методов ```numpy``` отделите дробные части элементов и найдите их среднее значение.\n",
        "\n",
        "**Формат ответа:**\n",
        "Число (например, ```0.2```)\n"
      ]
    },
    {
      "cell_type": "markdown",
      "metadata": {
        "id": "OCTvo3fHLaaJ"
      },
      "source": [
        "**Решение:**"
      ]
    },
    {
      "cell_type": "code",
      "execution_count": null,
      "metadata": {
        "colab": {
          "base_uri": "https://localhost:8080/"
        },
        "id": "f9_8IGndLeRO",
        "outputId": "573d34d1-eee2-4c45-ad71-8b8eb66b8b98"
      },
      "outputs": [
        {
          "output_type": "stream",
          "name": "stdout",
          "text": [
            "0.4414\n"
          ]
        }
      ],
      "source": [
        "import numpy as np\n",
        "\n",
        "array = np.random.rand(10).astype(np.float16)\n",
        "\n",
        "\n",
        "array[1] = 1.25\n",
        "array[3] = 2.75\n",
        "array[5] = 3.5\n",
        "array[7] = 4.125\n",
        "array[9] = 5.75\n",
        "\n",
        "fractional_parts = array - np.floor(array)\n",
        "mean_fractional_part = np.mean(fractional_parts)\n",
        "\n",
        "print(mean_fractional_part)"
      ]
    },
    {
      "cell_type": "markdown",
      "metadata": {
        "id": "g5S0h2-wKfGE"
      },
      "source": [
        "## Задание 2"
      ]
    },
    {
      "cell_type": "markdown",
      "metadata": {
        "id": "orX7BUzcPKKf"
      },
      "source": [
        "**Условие:**\n",
        "Создайте два произвольных целочисленных массива ```ndarray``` длины ```10``` и найдите количество позиций, в которых значения первого массива в ```3``` раза больше(не строго) значений второго массива при поэлементном сравнивании.\n",
        "\n",
        "**Формат ответа:**\n",
        "Число (например, ```5```)\n",
        "\n"
      ]
    },
    {
      "cell_type": "markdown",
      "metadata": {
        "id": "ESSLfwqEPKKn"
      },
      "source": [
        "**Решение:**"
      ]
    },
    {
      "cell_type": "code",
      "execution_count": null,
      "metadata": {
        "colab": {
          "base_uri": "https://localhost:8080/"
        },
        "id": "y8HOlaNLPKKq",
        "outputId": "60ad4916-784a-46ff-df74-a869b45021cd"
      },
      "outputs": [
        {
          "output_type": "stream",
          "name": "stdout",
          "text": [
            "3\n"
          ]
        }
      ],
      "source": [
        "import numpy as np\n",
        "\n",
        "array1 = np.random.randint(0, 10, size=10)\n",
        "array2 = np.random.randint(0, 10, size=10)\n",
        "\n",
        "count = np.sum(array1 >= array2 * 3)\n",
        "\n",
        "\n",
        "print(count)\n"
      ]
    },
    {
      "cell_type": "markdown",
      "metadata": {
        "id": "tq0Fcrg1KfXQ"
      },
      "source": [
        "## Задание 3"
      ]
    },
    {
      "cell_type": "markdown",
      "metadata": {
        "id": "3xp-jyyHPMIb"
      },
      "source": [
        "**Условие:**\n",
        "Создайте массив ```ndarray``` длины ```20``` типа ```float16``` и с использованием методов numpy, найдите среднее и среднеквадратическое отклонение **по формулам**(np.mean и np.std можно использовать только для проверки результатов): для массива $\\{x_i\\}$\n",
        "\n",
        "*   $\\mu = \\frac{1}{n}(x_1 + ... x_n) $\n",
        "*   $\\sigma = \\sqrt{\\frac{1}{n}\\sum_{i=1}^{n}(x_i-\\mu)^2}$\n",
        "\n",
        "**Формат ответа:**\n",
        "Кортеж из 2х чисел (например, ```(3.2, 5.1)```)\n",
        "\n"
      ]
    },
    {
      "cell_type": "markdown",
      "metadata": {
        "id": "H5ZlBsI2PMIi"
      },
      "source": [
        "**Решение:**"
      ]
    },
    {
      "cell_type": "code",
      "execution_count": null,
      "metadata": {
        "colab": {
          "base_uri": "https://localhost:8080/"
        },
        "id": "6amsYUCoPMIn",
        "outputId": "5f58cb92-78e2-4e96-a6d2-98be0c6680b1"
      },
      "outputs": [
        {
          "output_type": "stream",
          "name": "stdout",
          "text": [
            "(0.553125, 0.29522568168267477)\n"
          ]
        }
      ],
      "source": [
        "import numpy as np\n",
        "\n",
        "\n",
        "array = np.random.rand(20).astype(np.float16)\n",
        "\n",
        "mean_value = np.sum(array) / len(array)\n",
        "std_deviation = np.sqrt(np.sum((array - mean_value) ** 2) / len(array))\n",
        "\n",
        "result = (mean_value, std_deviation)\n",
        "print(result)"
      ]
    }
  ],
  "metadata": {
    "colab": {
      "provenance": []
    },
    "kernelspec": {
      "display_name": "Python 3 (ipykernel)",
      "language": "python",
      "name": "python3"
    },
    "language_info": {
      "codemirror_mode": {
        "name": "ipython",
        "version": 3
      },
      "file_extension": ".py",
      "mimetype": "text/x-python",
      "name": "python",
      "nbconvert_exporter": "python",
      "pygments_lexer": "ipython3",
      "version": "3.11.7"
    }
  },
  "nbformat": 4,
  "nbformat_minor": 0
}