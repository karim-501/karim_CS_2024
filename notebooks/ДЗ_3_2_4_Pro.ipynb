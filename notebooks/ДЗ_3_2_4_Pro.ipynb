{
  "cells": [
    {
      "cell_type": "markdown",
      "metadata": {
        "id": "MH-3kVwvJYeP"
      },
      "source": [
        "\n",
        "# 3.2.4 Математические и статистические операции"
      ]
    },
    {
      "cell_type": "markdown",
      "metadata": {
        "id": "gMwyKhlQJ1mf"
      },
      "source": [
        "## Задание 1"
      ]
    },
    {
      "cell_type": "markdown",
      "metadata": {
        "id": "Owu684lKKrjJ"
      },
      "source": [
        "**Условие:**\n",
        "Создайте случайный целочисленный массив ```ndarray``` размера ```(15,15)``` элементов, принадлежащих отрезку ```[1,10]```. С помощью методов булевых массивов найдите количество элементов в полученном массиве, которые являются полными квадратами. Используйте ```np.random.seed(1000)``` перед генерацией массива для воспроизводимости результатов.\n",
        "\n",
        "**Формат ответа:**\n",
        "Число (например, ```4```)\n"
      ]
    },
    {
      "cell_type": "markdown",
      "metadata": {
        "id": "OCTvo3fHLaaJ"
      },
      "source": [
        "**Решение:**"
      ]
    },
    {
      "cell_type": "code",
      "execution_count": null,
      "metadata": {
        "colab": {
          "base_uri": "https://localhost:8080/"
        },
        "id": "f9_8IGndLeRO",
        "outputId": "15dd187c-60aa-47bf-e7ce-729a2d51e1c4"
      },
      "outputs": [
        {
          "output_type": "stream",
          "name": "stdout",
          "text": [
            "Сгенерированный массив:\n",
            "[[ 4  8  8  1  2  1 10  9 10  5 10  5  5  3 10]\n",
            " [ 9  3  5  3  6  6  5  1  5  3  6  5  8  1  5]\n",
            " [ 8  2  1  3  2  8  2  6  7  6  8  9  9  3  3]\n",
            " [10  7  4  4  7  6  9  5  2  1 10  2  9  9  1]\n",
            " [ 3 10  4 10  7  3 10  6  9  6  7 10  7  8  7]\n",
            " [ 4  5  9  2  4  8  3  1  5  5  2  7  6  2  5]\n",
            " [ 2  8  5  6  1  7  3 10  8  1  9  1  6  4  1]\n",
            " [ 5  4  4  4  7  5  8  3  5  5  3  5  2  3  4]\n",
            " [10  1  6  3  2  1  7  9 10  7  2  2  1  9  5]\n",
            " [ 3  3  2  9  3  1  2  2  2  4  7  5  7  9  2]\n",
            " [10  4  6  1  2  2  7 10  6  2  2  9  8  4  4]\n",
            " [10  1  3  1  3  9  6  4  3  6  4  8  4  5 10]\n",
            " [ 5  1  7  5  8  6  1  8 10  6  7  4 10  9  8]\n",
            " [ 1  3  4  4  8  2  7  4  5  3  9  4  1  1  2]\n",
            " [ 4  5  6  8 10  5  3  2  5  3  4  9  4  4  8]]\n",
            "\n",
            "Количество элементов, являющихся полными квадратами: 70\n"
          ]
        }
      ],
      "source": [
        "import numpy as np\n",
        "\n",
        "np.random.seed(1000)\n",
        "array = np.random.randint(1, 11, (15, 15))\n",
        "\n",
        "\n",
        "is_square = np.sqrt(array) % 1 == 0\n",
        "\n",
        "count_squares = np.sum(is_square)\n",
        "\n",
        "print(\"Сгенерированный массив:\")\n",
        "print(array)\n",
        "print(\"\\nКоличество элементов, являющихся полными квадратами:\", count_squares)\n"
      ]
    },
    {
      "cell_type": "markdown",
      "metadata": {
        "id": "g5S0h2-wKfGE"
      },
      "source": [
        "## Задание 2"
      ]
    },
    {
      "cell_type": "markdown",
      "metadata": {
        "id": "orX7BUzcPKKf"
      },
      "source": [
        "**Условие:**\n",
        "Напишите функцию, которая принимает на вход квадратную матрицу, возводит ее в степень ```100``` и находит ее определитель. Если определитель отличен от нуля, то функция возвращает определитель матрицы, которая является обратной к транспанированной исходной матрице, иначе - ноль. Проверьте работоспособность на матрице, указанной в пункте решение.\n",
        "\n",
        "**Формат ответа:**\n",
        "Число (например, ```2.7```)\n",
        "\n"
      ]
    },
    {
      "cell_type": "markdown",
      "metadata": {
        "id": "ESSLfwqEPKKn"
      },
      "source": [
        "**Решение:**"
      ]
    },
    {
      "cell_type": "code",
      "execution_count": null,
      "metadata": {
        "id": "y8HOlaNLPKKq"
      },
      "outputs": [],
      "source": [
        "_INPUT_MATR_ = np.array([[2,5,7],\n",
        "                        [6,3,4],\n",
        "                        [5,-2,-3]])"
      ]
    },
    {
      "cell_type": "code",
      "source": [
        "import numpy as np\n",
        "\n",
        "def process_matrix(matrix):\n",
        "    power_100 = np.linalg.matrix_power(matrix, 100)\n",
        "    det = np.linalg.det(power_100)\n",
        "\n",
        "    if det != 0:\n",
        "        inverse_transpose = np.linalg.inv(matrix.T)\n",
        "        return np.linalg.det(inverse_transpose)\n",
        "    else:\n",
        "        return 0\n",
        "\n",
        "# Входная матрица\n",
        "input_matrix = np.array([[2, 5, 7],\n",
        "                          [6, 3, 4],\n",
        "                          [5, -2, -3]])\n",
        "\n",
        "result = process_matrix(input_matrix)\n",
        "print(\"Результат:\", result)\n"
      ],
      "metadata": {
        "id": "JGBTjMw-VVX_",
        "outputId": "cc60bfc5-cbd4-49a3-a3a3-e8640f5ce325",
        "colab": {
          "base_uri": "https://localhost:8080/"
        }
      },
      "execution_count": null,
      "outputs": [
        {
          "output_type": "stream",
          "name": "stdout",
          "text": [
            "Результат: -0.9999999999999121\n"
          ]
        }
      ]
    },
    {
      "cell_type": "markdown",
      "metadata": {
        "id": "tq0Fcrg1KfXQ"
      },
      "source": [
        "## Задание 3"
      ]
    },
    {
      "cell_type": "markdown",
      "metadata": {
        "id": "3xp-jyyHPMIb"
      },
      "source": [
        "**Условие:**\n",
        "Создайте два случайных массива длины ```100```, первый из которых является выборкой из нормального распределения, а второй - равномерного распределения на полуинтервале ```[0,1)```. Найдите абсолютные значения разности средних и среднеквадратических отклонений у полученных массивов.\n",
        "\n",
        "**Формат ответа:**\n",
        "Кортеж чисел (например, ```(2.7, 0.0)```)\n",
        "\n",
        "\n"
      ]
    },
    {
      "cell_type": "markdown",
      "metadata": {
        "id": "H5ZlBsI2PMIi"
      },
      "source": [
        "**Решение:**"
      ]
    },
    {
      "cell_type": "code",
      "execution_count": null,
      "metadata": {
        "colab": {
          "base_uri": "https://localhost:8080/"
        },
        "id": "6amsYUCoPMIn",
        "outputId": "fb0c29a3-1e8b-46e3-c399-590ff29adcc1"
      },
      "outputs": [
        {
          "output_type": "stream",
          "name": "stdout",
          "text": [
            "Абсолютная разность средних: 0.46587997523261443\n",
            "Абсолютная разность среднеквадратических отклонений: 0.686335223874882\n"
          ]
        }
      ],
      "source": [
        "import numpy as np\n",
        "\n",
        "\n",
        "normal_array = np.random.normal(loc=0, scale=1, size=100)\n",
        "\n",
        "uniform_array = np.random.uniform(low=0, high=1, size=100)\n",
        "\n",
        "mean_normal = np.mean(normal_array)\n",
        "std_normal = np.std(normal_array)\n",
        "\n",
        "mean_uniform = np.mean(uniform_array)\n",
        "std_uniform = np.std(uniform_array)\n",
        "\n",
        "diff_mean = np.abs(mean_normal - mean_uniform)\n",
        "diff_std = np.abs(std_normal - std_uniform)\n",
        "\n",
        "print(\"Абсолютная разность средних:\", diff_mean)\n",
        "print(\"Абсолютная разность среднеквадратических отклонений:\", diff_std)\n"
      ]
    }
  ],
  "metadata": {
    "colab": {
      "provenance": []
    },
    "kernelspec": {
      "display_name": "Python 3 (ipykernel)",
      "language": "python",
      "name": "python3"
    },
    "language_info": {
      "codemirror_mode": {
        "name": "ipython",
        "version": 3
      },
      "file_extension": ".py",
      "mimetype": "text/x-python",
      "name": "python",
      "nbconvert_exporter": "python",
      "pygments_lexer": "ipython3",
      "version": "3.11.7"
    }
  },
  "nbformat": 4,
  "nbformat_minor": 0
}