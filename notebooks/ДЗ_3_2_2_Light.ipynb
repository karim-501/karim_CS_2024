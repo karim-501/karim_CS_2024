{
  "cells": [
    {
      "cell_type": "markdown",
      "metadata": {
        "id": "MH-3kVwvJYeP"
      },
      "source": [
        "\n",
        "# 3.2.2 Индексирование и вырезание"
      ]
    },
    {
      "cell_type": "markdown",
      "metadata": {
        "id": "gMwyKhlQJ1mf"
      },
      "source": [
        "## Задание 1"
      ]
    },
    {
      "cell_type": "markdown",
      "metadata": {
        "id": "DDc7rpYBSDlR"
      },
      "source": [
        "Конечно, давайте создадим аналогичную задачу без использования изображения.\n",
        "\n",
        "**Условие:**\n",
        "Создайте целочисленный массив `ndarray` размера `(3,3)`. Представьте, что каждый элемент этого массива находится на черной позиции, как показано на следующей схеме:\n",
        "\n",
        "```\n",
        "B  W  B\n",
        "W  B  W\n",
        "B  W  B\n",
        "```\n",
        "\n",
        "Теперь, используя индексы элементов на черных позициях (B), выполните 4 выборки элементов согласно следующим выражениям:\n",
        "\n",
        "1. Выборка элементов с индексами `(0, 0)`, `(1, 1)`, `(2, 2)`.\n",
        "2. Выборка элементов с индексами `(0, 2)`, `(1, 1)`, `(2, 0)`.\n",
        "3. Выборка элементов с индексами `(0, 1)`, `(1, 1)`, `(2, 1)`.\n",
        "4. Выборка элементов с индексами `(1, 0)`, `(1, 1)`, `(1, 2)`.\n",
        "\n",
        "Найдите максимальное значение в каждой из полученных выборок.\n",
        "\n",
        "**Формат ответа:**\n",
        "Кортеж чисел (например, `(3, 5, 2, 6)`)."
      ]
    },
    {
      "cell_type": "markdown",
      "metadata": {
        "id": "OCTvo3fHLaaJ"
      },
      "source": [
        "**Решение:**"
      ]
    },
    {
      "cell_type": "code",
      "execution_count": null,
      "metadata": {
        "colab": {
          "base_uri": "https://localhost:8080/"
        },
        "id": "f9_8IGndLeRO",
        "outputId": "23c0f23e-48e4-46ef-f257-878ebaed6ff5"
      },
      "outputs": [
        {
          "output_type": "stream",
          "name": "stdout",
          "text": [
            "(0, 0, 1, 1)\n"
          ]
        }
      ],
      "source": [
        "import numpy as np\n",
        "\n",
        "\n",
        "array = np.array([[0, 1, 0],\n",
        "                  [1, 0, 1],\n",
        "                  [0, 1, 0]])\n",
        "\n",
        "sample1 = np.max(array[[0, 1, 2], [0, 1, 2]])\n",
        "sample2 = np.max(array[[0, 1, 2], [2, 1, 0]])\n",
        "sample3 = np.max(array[[0, 1, 2], [1, 1, 1]])\n",
        "sample4 = np.max(array[[1, 1, 1], [0, 1, 2]])\n",
        "\n",
        "result = (sample1, sample2, sample3, sample4)\n",
        "print(result)"
      ]
    },
    {
      "cell_type": "markdown",
      "metadata": {
        "id": "g5S0h2-wKfGE"
      },
      "source": [
        "## Задание 2"
      ]
    },
    {
      "cell_type": "markdown",
      "metadata": {
        "id": "orX7BUzcPKKf"
      },
      "source": [
        "**Условие:**\n",
        "Создайте случайный целочисленный массив ```ndarray``` из ```100``` элементов, принадлежащих отрезку ```[0,10]```. С помощью булевой индексации найдите все четные элементы в массиве. Найдите сумму полученных элементов. Используйте ```np.random.seed(1000)``` перед генерацией массива для воспроизводимости результатов.\n",
        "\n",
        "**Формат ответа:**\n",
        "Число (например, ```56```)\n",
        "\n",
        "**Оценка в баллах:** 3 балла"
      ]
    },
    {
      "cell_type": "markdown",
      "metadata": {
        "id": "ESSLfwqEPKKn"
      },
      "source": [
        "**Решение:**"
      ]
    },
    {
      "cell_type": "code",
      "execution_count": null,
      "metadata": {
        "colab": {
          "base_uri": "https://localhost:8080/"
        },
        "id": "y8HOlaNLPKKq",
        "outputId": "0b3d451e-ce35-40ec-8d11-a7edef66c527"
      },
      "outputs": [
        {
          "output_type": "stream",
          "name": "stdout",
          "text": [
            "266\n"
          ]
        }
      ],
      "source": [
        "import numpy as np\n",
        "\n",
        "\n",
        "np.random.seed(1000)\n",
        "\n",
        "array = np.random.randint(0, 11, size=100)\n",
        "even_numbers = array[array % 2 == 0]\n",
        "sum_even_numbers = np.sum(even_numbers)\n",
        "\n",
        "print(sum_even_numbers)"
      ]
    },
    {
      "cell_type": "markdown",
      "metadata": {
        "id": "tq0Fcrg1KfXQ"
      },
      "source": [
        "## Задание 3"
      ]
    },
    {
      "cell_type": "markdown",
      "metadata": {
        "id": "3xp-jyyHPMIb"
      },
      "source": [
        "**Условие:**\n",
        "Создайте случайный целочисленный массив ndarray размера ```(10,10)``` элементов, принадлежащих отрезку ```[0,10]```. Сделайте подвыборку по всем строкам с нечетным индексом. Найдите сумму всех элементов в полученной матрице. Используйте ```np.random.seed(1000)``` перед генерацией массива для воспроизводимости результатов.\n",
        "\n",
        "**Формат ответа:**\n",
        "Число (например, ```150```)\n",
        "\n",
        "**Оценка в баллах:** 4 балла\n"
      ]
    },
    {
      "cell_type": "markdown",
      "metadata": {
        "id": "H5ZlBsI2PMIi"
      },
      "source": [
        "**Решение:**"
      ]
    },
    {
      "cell_type": "code",
      "execution_count": null,
      "metadata": {
        "colab": {
          "base_uri": "https://localhost:8080/"
        },
        "id": "6amsYUCoPMIn",
        "outputId": "3c51c31e-c16d-4569-c207-4652204043f0"
      },
      "outputs": [
        {
          "output_type": "stream",
          "name": "stdout",
          "text": [
            "253\n"
          ]
        }
      ],
      "source": [
        "import numpy as np\n",
        "\n",
        "np.random.seed(1000)\n",
        "array = np.random.randint(0, 11, size=(10, 10))\n",
        "sub_array = array[1::2]\n",
        "sum_sub_array = np.sum(sub_array)\n",
        "print(sum_sub_array)\n"
      ]
    }
  ],
  "metadata": {
    "colab": {
      "provenance": []
    },
    "kernelspec": {
      "display_name": "Python 3 (ipykernel)",
      "language": "python",
      "name": "python3"
    },
    "language_info": {
      "codemirror_mode": {
        "name": "ipython",
        "version": 3
      },
      "file_extension": ".py",
      "mimetype": "text/x-python",
      "name": "python",
      "nbconvert_exporter": "python",
      "pygments_lexer": "ipython3",
      "version": "3.11.7"
    }
  },
  "nbformat": 4,
  "nbformat_minor": 0
}