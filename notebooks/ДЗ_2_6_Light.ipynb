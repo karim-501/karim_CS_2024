{
  "cells": [
    {
      "cell_type": "markdown",
      "metadata": {
        "id": "MH-3kVwvJYeP"
      },
      "source": [
        "# 2.6 Модули"
      ]
    },
    {
      "cell_type": "markdown",
      "metadata": {
        "id": "Ul9jm4IVKflm"
      },
      "source": [
        "## Задание 1"
      ]
    },
    {
      "cell_type": "markdown",
      "metadata": {
        "id": "MHcCRybmPN2l"
      },
      "source": [
        "**Условие:**\n",
        "Посчитать значение $\\cos^2(\\pi/7)$ и $\\sin^2(\\pi/7)$, используя указанные функции из библиотеки ```math```, применив для этого **каждую** из конструкций импорта:\n",
        "``` python\n",
        "# 1. Импорт модуля или модулей целиком\n",
        "import имя_модуля\n",
        "import имя_модуля1, имя_модуля2\n",
        "\n",
        "# 2. Импорт модуля с присвоением псевдонима модулю\n",
        "import имя_модуля as новое_имя\n",
        "\n",
        "# 3. Импорт конкретного объекта из модуля\n",
        "from имя_модуля import имя_объекта\n",
        "from имя_модуля import имя_объекта1, имя_объекта2\n",
        "\n",
        "# 4. Импорт конкретного объекта из модуля с присвоением псевдонима объекту\n",
        "from имя_модуля import имя_объекта as псевдоним_объекта\n",
        "\n",
        "# 5. Импорт всех объектов из модуля\n",
        "from имя_модуля import *\n",
        "```\n",
        "Найдите сумму $\\cos^2(\\pi/7)$ и $\\sin^2(\\pi/7)$.\n",
        "\n",
        "**Формат ответа:** Число с плавающей запятой, округленное до десятых (например,```0.1```)"
      ]
    },
    {
      "cell_type": "markdown",
      "metadata": {
        "id": "KGKyYMeJPN2v"
      },
      "source": [
        "**Решение:**"
      ]
    },
    {
      "cell_type": "code",
      "execution_count": null,
      "metadata": {
        "colab": {
          "base_uri": "https://localhost:8080/"
        },
        "id": "JXulcWCxPN26",
        "outputId": "d6488372-101f-4764-b648-ec87b88cc1eb"
      },
      "outputs": [
        {
          "output_type": "stream",
          "name": "stdout",
          "text": [
            "Сумма cos^2(π/7) и sin^2(π/7): 1.0\n"
          ]
        }
      ],
      "source": [
        "import math\n",
        "\n",
        "cos_pi_7 = math.cos(math.pi / 7)\n",
        "sin_pi_7 = math.sin(math.pi / 7)\n",
        "\n",
        "cos2_pi_7 = cos_pi_7 ** 2\n",
        "sin2_pi_7 = sin_pi_7 ** 2\n",
        "\n",
        "sum_cos2_sin2_pi_7 = cos2_pi_7 + sin2_pi_7\n",
        "\n",
        "rounded_sum = round(sum_cos2_sin2_pi_7, 1)\n",
        "\n",
        "print(f\"Сумма cos^2(π/7) и sin^2(π/7): {rounded_sum}\")\n"
      ]
    },
    {
      "cell_type": "code",
      "source": [
        "import math as m\n",
        "# импорт модуля с псивдонимом\n",
        "cos_pi_7 = m.cos(m.pi / 7)\n",
        "sin_pi_7 = m.sin(m.pi / 7)\n",
        "\n",
        "\n"
      ],
      "metadata": {
        "id": "zrqzGOq4aFnJ"
      },
      "execution_count": null,
      "outputs": []
    }
  ],
  "metadata": {
    "colab": {
      "provenance": []
    },
    "kernelspec": {
      "display_name": "Python 3 (ipykernel)",
      "language": "python",
      "name": "python3"
    },
    "language_info": {
      "codemirror_mode": {
        "name": "ipython",
        "version": 3
      },
      "file_extension": ".py",
      "mimetype": "text/x-python",
      "name": "python",
      "nbconvert_exporter": "python",
      "pygments_lexer": "ipython3",
      "version": "3.11.7"
    }
  },
  "nbformat": 4,
  "nbformat_minor": 0
}