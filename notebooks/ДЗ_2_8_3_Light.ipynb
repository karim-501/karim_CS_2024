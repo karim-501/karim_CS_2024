{
  "cells": [
    {
      "cell_type": "markdown",
      "metadata": {
        "id": "MH-3kVwvJYeP"
      },
      "source": [
        "# 2.8.3 Объектно-ориентированное программирование как ключевой элемент языка Python"
      ]
    },
    {
      "cell_type": "markdown",
      "metadata": {
        "id": "gMwyKhlQJ1mf"
      },
      "source": [
        "## Задание 1"
      ]
    },
    {
      "cell_type": "markdown",
      "metadata": {
        "id": "Owu684lKKrjJ"
      },
      "source": [
        "**Условие:**\n",
        "\n",
        "Установите все родительские классы для класса ```IOError```.\n"
      ]
    },
    {
      "cell_type": "markdown",
      "metadata": {
        "id": "OCTvo3fHLaaJ"
      },
      "source": [
        "**Решение:**"
      ]
    },
    {
      "cell_type": "code",
      "execution_count": null,
      "metadata": {
        "colab": {
          "base_uri": "https://localhost:8080/"
        },
        "id": "f9_8IGndLeRO",
        "outputId": "3884f4a2-65cd-4f08-c343-41a4df07a7a8"
      },
      "outputs": [
        {
          "output_type": "stream",
          "name": "stdout",
          "text": [
            "(<class 'Exception'>,)\n"
          ]
        }
      ],
      "source": [
        "\n",
        "parent_classes = IOError.__bases__\n",
        "\n",
        "print(parent_classes)"
      ]
    },
    {
      "cell_type": "markdown",
      "metadata": {
        "id": "g5S0h2-wKfGE"
      },
      "source": [
        "## Задание 2"
      ]
    },
    {
      "cell_type": "markdown",
      "metadata": {
        "id": "orX7BUzcPKKf"
      },
      "source": [
        "**Условие:** Для класса ```Manager``` из задания к занятию 2.8.2 установите все родительские классы. Убедитесь, что сам класс ```Manager``` является классом."
      ]
    },
    {
      "cell_type": "markdown",
      "metadata": {
        "id": "ESSLfwqEPKKn"
      },
      "source": [
        "**Решение:**"
      ]
    },
    {
      "cell_type": "code",
      "execution_count": null,
      "metadata": {
        "colab": {
          "base_uri": "https://localhost:8080/"
        },
        "id": "y8HOlaNLPKKq",
        "outputId": "457fffe0-fc1a-43c3-ba3e-b6e85577d9ae"
      },
      "outputs": [
        {
          "output_type": "stream",
          "name": "stdout",
          "text": [
            "Родительские классы для Manager: (<class '__main__.Person'>,)\n",
            "Manager является классом: True\n"
          ]
        }
      ],
      "source": [
        "class Person:\n",
        "    pass\n",
        "\n",
        "class Manager(Person):\n",
        "    pass\n",
        "\n",
        "parent_classes = Manager.__bases__\n",
        "is_manager_class = isinstance(Manager, type)\n",
        "\n",
        "print(\"Родительские классы для Manager:\", parent_classes)\n",
        "print(\"Manager является классом:\", is_manager_class)"
      ]
    }
  ],
  "metadata": {
    "colab": {
      "provenance": []
    },
    "kernelspec": {
      "display_name": "Python 3 (ipykernel)",
      "language": "python",
      "name": "python3"
    },
    "language_info": {
      "codemirror_mode": {
        "name": "ipython",
        "version": 3
      },
      "file_extension": ".py",
      "mimetype": "text/x-python",
      "name": "python",
      "nbconvert_exporter": "python",
      "pygments_lexer": "ipython3",
      "version": "3.11.7"
    }
  },
  "nbformat": 4,
  "nbformat_minor": 0
}