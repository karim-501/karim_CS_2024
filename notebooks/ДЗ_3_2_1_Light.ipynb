{
  "cells": [
    {
      "cell_type": "markdown",
      "metadata": {
        "id": "MH-3kVwvJYeP"
      },
      "source": [
        "\n",
        "# 3.2.1 Быстрые поэлементные операции над массивами"
      ]
    },
    {
      "cell_type": "markdown",
      "metadata": {
        "id": "gMwyKhlQJ1mf"
      },
      "source": [
        "## Задание 1"
      ]
    },
    {
      "cell_type": "markdown",
      "metadata": {
        "id": "Owu684lKKrjJ"
      },
      "source": [
        "**Условие:**\n",
        "Создайте два произвольных целочисленных массива ```ndarray``` длины ```10``` и найдите поэлементную сумму их значений. Среди полученных значений найдите максимальное с использованием функции ```np.max()```.\n",
        "\n",
        "**Формат ответа:**\n",
        "Число (например, ```150```)\n"
      ]
    },
    {
      "cell_type": "markdown",
      "metadata": {
        "id": "OCTvo3fHLaaJ"
      },
      "source": [
        "**Решение:**"
      ]
    },
    {
      "cell_type": "code",
      "execution_count": null,
      "metadata": {
        "colab": {
          "base_uri": "https://localhost:8080/"
        },
        "id": "f9_8IGndLeRO",
        "outputId": "bbefe75b-21de-44b2-d239-26971f2b97ee"
      },
      "outputs": [
        {
          "output_type": "stream",
          "name": "stdout",
          "text": [
            "165\n"
          ]
        }
      ],
      "source": [
        "import numpy as np\n",
        "\n",
        "\n",
        "array1 = np.random.randint(1, 100, size=10)\n",
        "array2 = np.random.randint(1, 100, size=10)\n",
        "\n",
        "elementwise_sum = array1 + array2\n",
        "\n",
        "max_value = np.max(elementwise_sum)\n",
        "\n",
        "print(max_value)\n"
      ]
    },
    {
      "cell_type": "markdown",
      "metadata": {
        "id": "g5S0h2-wKfGE"
      },
      "source": [
        "## Задание 2"
      ]
    },
    {
      "cell_type": "markdown",
      "metadata": {
        "id": "orX7BUzcPKKf"
      },
      "source": [
        "**Условие:**\n",
        "Создайте произвольный массив ```ndarray``` из 10 элементов типа ```float16```. Присутствие ненулевых дробных частей у элементов обязательно. С использованием методов ```numpy``` отделите дробные части элементов и найдите среди них максимальное значение.\n",
        "\n",
        "**Формат ответа:**\n",
        "Число (например, ```0.82```)\n",
        "\n"
      ]
    },
    {
      "cell_type": "markdown",
      "metadata": {
        "id": "ESSLfwqEPKKn"
      },
      "source": [
        "**Решение:**"
      ]
    },
    {
      "cell_type": "code",
      "execution_count": null,
      "metadata": {
        "colab": {
          "base_uri": "https://localhost:8080/"
        },
        "id": "y8HOlaNLPKKq",
        "outputId": "cc77e513-f826-40dc-fc8b-f902b3d88326"
      },
      "outputs": [
        {
          "output_type": "stream",
          "name": "stdout",
          "text": [
            "0.8584\n"
          ]
        }
      ],
      "source": [
        "import numpy as np\n",
        "\n",
        "array = np.random.rand(10).astype(np.float16)\n",
        "\n",
        "array[1] = 1.25\n",
        "array[3] = 2.75\n",
        "array[5] = 3.5\n",
        "array[7] = 4.125\n",
        "array[9] = 5.75\n",
        "\n",
        "fractional_parts = array - np.floor(array)\n",
        "\n",
        "max_fractional_part = np.max(fractional_parts)\n",
        "\n",
        "print(max_fractional_part)"
      ]
    },
    {
      "cell_type": "markdown",
      "metadata": {
        "id": "tq0Fcrg1KfXQ"
      },
      "source": [
        "## Задание 3"
      ]
    },
    {
      "cell_type": "markdown",
      "metadata": {
        "id": "3xp-jyyHPMIb"
      },
      "source": [
        "**Условие:**\n",
        "Создайте два произвольных целочисленных массива ```ndarray``` длины ```10``` и найдите количество позиций, в которых значения массивов не совпадают при поэлементном сравнивании.\n",
        "\n",
        "**Формат ответа:**\n",
        "Число (например, ```5```)\n",
        "\n",
        "\n"
      ]
    },
    {
      "cell_type": "markdown",
      "metadata": {
        "id": "H5ZlBsI2PMIi"
      },
      "source": [
        "**Решение:**"
      ]
    },
    {
      "cell_type": "code",
      "execution_count": null,
      "metadata": {
        "colab": {
          "base_uri": "https://localhost:8080/"
        },
        "id": "6amsYUCoPMIn",
        "outputId": "fcbdca6b-a184-4ac8-9740-b71ad4bd55cf"
      },
      "outputs": [
        {
          "output_type": "stream",
          "name": "stdout",
          "text": [
            "8\n"
          ]
        }
      ],
      "source": [
        "import numpy as np\n",
        "\n",
        "\n",
        "array1 = np.random.randint(0, 10, size=10)\n",
        "array2 = np.random.randint(0, 10, size=10)\n",
        "\n",
        "unequal_positions = np.sum(array1 != array2)\n",
        "\n",
        "print(unequal_positions)"
      ]
    }
  ],
  "metadata": {
    "colab": {
      "provenance": []
    },
    "kernelspec": {
      "display_name": "Python 3 (ipykernel)",
      "language": "python",
      "name": "python3"
    },
    "language_info": {
      "codemirror_mode": {
        "name": "ipython",
        "version": 3
      },
      "file_extension": ".py",
      "mimetype": "text/x-python",
      "name": "python",
      "nbconvert_exporter": "python",
      "pygments_lexer": "ipython3",
      "version": "3.11.7"
    }
  },
  "nbformat": 4,
  "nbformat_minor": 0
}