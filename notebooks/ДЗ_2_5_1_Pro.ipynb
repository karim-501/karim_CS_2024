{
  "cells": [
    {
      "cell_type": "markdown",
      "metadata": {
        "id": "MH-3kVwvJYeP"
      },
      "source": [
        "# 2.5.1 Основы написания функций"
      ]
    },
    {
      "cell_type": "markdown",
      "metadata": {
        "id": "gMwyKhlQJ1mf"
      },
      "source": [
        "## Задание 1"
      ]
    },
    {
      "cell_type": "markdown",
      "metadata": {
        "id": "Owu684lKKrjJ"
      },
      "source": [
        "**Условие:**\n",
        "Напишите функцию ```multi_mean()```, которая может принимать на вход любое количество чисел и возвращает кортеж различных средних значений (среднее арифметическое, среднее геометрическое, среднее гармоническое). В ответе укажите результат работы функции для ```multi_mean(1.74, 2, 18, 24)```.\n",
        "\n",
        "**Формат ответа:**\n",
        "Кортеж чисел (например, ```(25.4, 8.2, 3.5)```)"
      ]
    },
    {
      "cell_type": "markdown",
      "metadata": {
        "id": "OCTvo3fHLaaJ"
      },
      "source": [
        "**Решение:**"
      ]
    },
    {
      "cell_type": "code",
      "execution_count": null,
      "metadata": {
        "colab": {
          "base_uri": "https://localhost:8080/"
        },
        "id": "f9_8IGndLeRO",
        "outputId": "8e944a21-6ed8-407e-e33f-d59bc8f50084"
      },
      "outputs": [
        {
          "output_type": "stream",
          "name": "stdout",
          "text": [
            "(11.435, 38.77318661136843, 3.4131589701675518)\n"
          ]
        }
      ],
      "source": [
        "from math import sqrt\n",
        "\n",
        "def multi_mean(*args):\n",
        "\n",
        "  if len(args) == 0:\n",
        "    raise ValueError(\"Необходимо указать хотя бы одно число\")\n",
        "  for num in args:\n",
        "    if not isinstance(num, (int, float)):\n",
        "      raise TypeError(\"Все аргументы должны быть числами\")\n",
        "  sum_nums = sum(args)\n",
        "  arithmetic_mean = sum_nums / len(args)\n",
        "  geometric_mean = 1\n",
        "  for num in args:\n",
        "    geometric_mean *= num\n",
        "  geometric_mean = sqrt(geometric_mean)\n",
        "\n",
        "  harmonic_mean = len(args) / sum(1 / num for num in args)\n",
        "\n",
        "  return arithmetic_mean, geometric_mean, harmonic_mean\n",
        "\n",
        "result = multi_mean(1.74, 2, 18, 24)\n",
        "\n",
        "print(result)\n"
      ]
    },
    {
      "cell_type": "markdown",
      "metadata": {
        "id": "po9IAGLrN40v"
      },
      "source": [
        "## Задание 2"
      ]
    },
    {
      "cell_type": "markdown",
      "metadata": {
        "id": "d1a0uN6YN41B"
      },
      "source": [
        "**Условие:**\n",
        "Напишите функцию, которая принимает на вход в виде именованных переменных длины сторон параллелепипеда и возвращает кортеж значений (площадь параллелепипеда, объем параллелепипеда). Напишите строку документации для данной функции. В ответе укажите результат работы функции для длин сторон ```2,12,6```.\n",
        "\n",
        "**Формат ответа:**\n",
        "Кортеж чисел (например, ```(25.4, 8.2)```)"
      ]
    },
    {
      "cell_type": "markdown",
      "metadata": {
        "id": "iWPZadMmN41H"
      },
      "source": [
        "**Решение:**"
      ]
    },
    {
      "cell_type": "code",
      "execution_count": null,
      "metadata": {
        "colab": {
          "base_uri": "https://localhost:8080/"
        },
        "id": "woFKze5xN41M",
        "outputId": "748f78cc-05e2-4579-9b9b-daa750d5490b"
      },
      "outputs": [
        {
          "output_type": "stream",
          "name": "stdout",
          "text": [
            "Площадь: 216\n",
            "Объем: 144\n"
          ]
        }
      ],
      "source": [
        "def calc_parallelepiped(a: float, b: float, c: float) -> tuple[float, float]:\n",
        "\n",
        "  for side in (a, b, c):\n",
        "    if not isinstance(side, (int, float)):\n",
        "      raise TypeError(\"Длина стороны должна быть числом\")\n",
        "    if side <= 0:\n",
        "      raise ValueError(\"Длина стороны должна быть положительной\")\n",
        "  area = 2 * (a * b + a * c + b * c)\n",
        "  volume = a * b * c\n",
        "\n",
        "  return area, volume\n",
        "\n",
        "a = 2\n",
        "b = 12\n",
        "c = 6\n",
        "\n",
        "area, volume = calc_parallelepiped(a, b, c)\n",
        "\n",
        "print(f\"Площадь: {area}\")\n",
        "print(f\"Объем: {volume}\")\n"
      ]
    },
    {
      "cell_type": "markdown",
      "metadata": {
        "id": "ZuoZQfnXPWcB"
      },
      "source": [
        "## Задание 3"
      ]
    },
    {
      "cell_type": "markdown",
      "metadata": {
        "id": "CCiiVIVzPWcF"
      },
      "source": [
        "**Условие:**\n",
        "Напишите функцию подсчета факториала числа. Найдите значение ```12!```.\n",
        "\n",
        "**Формат ответа:**\n",
        "Число (например, ```1235```)\n"
      ]
    },
    {
      "cell_type": "markdown",
      "metadata": {
        "id": "Flg_SH_8PWcJ"
      },
      "source": [
        "**Решение:**"
      ]
    },
    {
      "cell_type": "code",
      "execution_count": null,
      "metadata": {
        "colab": {
          "base_uri": "https://localhost:8080/"
        },
        "id": "OqMIG3a9PWcM",
        "outputId": "bde3e569-3e63-4c79-fa6a-1c3e542d52af"
      },
      "outputs": [
        {
          "output_type": "stream",
          "name": "stdout",
          "text": [
            "12! = 479001600\n"
          ]
        }
      ],
      "source": [
        "def factorial(n: int) -> int:\n",
        "  if not isinstance(n, int):\n",
        "    raise TypeError(\"n должен быть целым числом\")\n",
        "  if n < 0:\n",
        "    raise ValueError(\"n должен быть неотрицательным\")\n",
        "  if n == 0 or n == 1:\n",
        "    return 1\n",
        "  else:\n",
        "    return n * factorial(n-1)\n",
        "\n",
        "n = 12\n",
        "factorial_n = factorial(n)\n",
        "print(f\"{n}! = {factorial_n}\")\n"
      ]
    }
  ],
  "metadata": {
    "colab": {
      "provenance": []
    },
    "kernelspec": {
      "display_name": "Python 3 (ipykernel)",
      "language": "python",
      "name": "python3"
    },
    "language_info": {
      "codemirror_mode": {
        "name": "ipython",
        "version": 3
      },
      "file_extension": ".py",
      "mimetype": "text/x-python",
      "name": "python",
      "nbconvert_exporter": "python",
      "pygments_lexer": "ipython3",
      "version": "3.11.7"
    }
  },
  "nbformat": 4,
  "nbformat_minor": 0
}