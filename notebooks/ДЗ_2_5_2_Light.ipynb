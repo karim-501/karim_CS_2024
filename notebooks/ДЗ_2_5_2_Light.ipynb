{
  "cells": [
    {
      "cell_type": "markdown",
      "metadata": {
        "id": "MH-3kVwvJYeP"
      },
      "source": [
        "# 2.5.2 Лямбда-функции и функции генераторы"
      ]
    },
    {
      "cell_type": "markdown",
      "metadata": {
        "id": "g5S0h2-wKfGE"
      },
      "source": [
        "## Задание 1"
      ]
    },
    {
      "cell_type": "markdown",
      "metadata": {
        "id": "orX7BUzcPKKf"
      },
      "source": [
        "**Условие:**\n",
        "Создайте лямбда-функцию, которая находит обратное к числу значение (например, для числа ```2``` обратным является ```1/2```). Примените ее ко всем элементам листа ```[1,2,3, ..., 1000]```. Найдите сумму полученных обратных значений.\n",
        "\n",
        "**Формат ответа:** Число (например, ```21.2```)"
      ]
    },
    {
      "cell_type": "markdown",
      "metadata": {
        "id": "ESSLfwqEPKKn"
      },
      "source": [
        "**Решение:**"
      ]
    },
    {
      "cell_type": "code",
      "execution_count": null,
      "metadata": {
        "colab": {
          "base_uri": "https://localhost:8080/"
        },
        "id": "y8HOlaNLPKKq",
        "outputId": "745826ff-0748-4a9d-f9bf-3a1b99d3b5c7"
      },
      "outputs": [
        {
          "output_type": "stream",
          "name": "stdout",
          "text": [
            "Сумма обратных значений: 7.485470860550343\n"
          ]
        }
      ],
      "source": [
        "\n",
        "inverse = lambda x: 1 / x\n",
        "\n",
        "numbers = list(range(1, 1001))\n",
        "\n",
        "inverse_values = list(map(inverse, numbers))\n",
        "\n",
        "sum_inverse_values = sum(inverse_values)\n",
        "\n",
        "print(f\"Сумма обратных значений: {sum_inverse_values}\")\n"
      ]
    }
  ],
  "metadata": {
    "colab": {
      "provenance": []
    },
    "kernelspec": {
      "display_name": "Python 3 (ipykernel)",
      "language": "python",
      "name": "python3"
    },
    "language_info": {
      "codemirror_mode": {
        "name": "ipython",
        "version": 3
      },
      "file_extension": ".py",
      "mimetype": "text/x-python",
      "name": "python",
      "nbconvert_exporter": "python",
      "pygments_lexer": "ipython3",
      "version": "3.11.7"
    }
  },
  "nbformat": 4,
  "nbformat_minor": 0
}