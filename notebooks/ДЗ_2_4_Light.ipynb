{
  "cells": [
    {
      "cell_type": "markdown",
      "metadata": {
        "id": "MH-3kVwvJYeP"
      },
      "source": [
        "# 2.4 Управляющие структуры. Условные ветвления и циклы"
      ]
    },
    {
      "cell_type": "markdown",
      "metadata": {
        "id": "gMwyKhlQJ1mf"
      },
      "source": [
        "## Задание 1"
      ]
    },
    {
      "cell_type": "markdown",
      "metadata": {
        "id": "Owu684lKKrjJ"
      },
      "source": [
        "**Условие:**\n",
        "Вычислить сумму ряда чисел $1/1^2 + 1/2^2 + 1/3^2 + … + 1/n^2$, где $n$ определяется пользователем. Дайте ответ для $n = 50$. Используйте циклы.\n",
        "\n",
        "**Формат ответа:**\n",
        "Число (например, ```0.75```)\n"
      ]
    },
    {
      "cell_type": "markdown",
      "metadata": {
        "id": "OCTvo3fHLaaJ"
      },
      "source": [
        "**Решение:**"
      ]
    },
    {
      "cell_type": "code",
      "execution_count": null,
      "metadata": {
        "id": "f9_8IGndLeRO"
      },
      "outputs": [],
      "source": []
    },
    {
      "cell_type": "markdown",
      "metadata": {
        "id": "g5S0h2-wKfGE"
      },
      "source": [
        "## Задание 2"
      ]
    },
    {
      "cell_type": "markdown",
      "metadata": {
        "id": "orX7BUzcPKKf"
      },
      "source": [
        "**Условие:**\n",
        "Найдите сумму всех натуральных делителей введенного пользователем натурального числа. В ответе укажите результат для числа ```5120```. Используйте циклы и условные выражения.\n",
        "\n",
        "**Формат ответа:** Целое цисло (например, ```75```)"
      ]
    },
    {
      "cell_type": "markdown",
      "metadata": {
        "id": "ESSLfwqEPKKn"
      },
      "source": [
        "**Решение:**"
      ]
    },
    {
      "cell_type": "code",
      "execution_count": null,
      "metadata": {
        "id": "y8HOlaNLPKKq"
      },
      "outputs": [],
      "source": []
    },
    {
      "cell_type": "markdown",
      "metadata": {
        "id": "tq0Fcrg1KfXQ"
      },
      "source": [
        "## Задание 3"
      ]
    },
    {
      "cell_type": "markdown",
      "metadata": {
        "id": "3xp-jyyHPMIb"
      },
      "source": [
        "**Условие:** Создайте игру, в которой пользователь должен угадать заранее случайным образом выбранное целое число от 1 до 10. Используйте модуль ```random``` и цикл ```while```. Не забудьте поставить условие выхода, например, при вводе символа *. Сыграйте с машиной в эту игру 3 раза и укажите среднее значение попыток до успешного угадывания.\n",
        "\n",
        "**Формат ответа:** Число (например, ```7```)\n"
      ]
    },
    {
      "cell_type": "markdown",
      "metadata": {
        "id": "H5ZlBsI2PMIi"
      },
      "source": [
        "**Решение:**"
      ]
    },
    {
      "cell_type": "code",
      "execution_count": null,
      "metadata": {
        "colab": {
          "base_uri": "https://localhost:8080/",
          "height": 367
        },
        "id": "6amsYUCoPMIn",
        "outputId": "3806e5ab-8fa7-40bb-b9b9-4470d22b552e"
      },
      "outputs": [
        {
          "output_type": "stream",
          "name": "stdout",
          "text": [
            "Я задумал число от 1 до 10\n",
            "Угадай число: 4\n",
            "Слишком маленькое!\n",
            "Угадай число: 6\n",
            "Слишком маленькое!\n",
            "Угадай число: 8\n",
            "Слишком большое!\n",
            "Угадай число: 7\n",
            "Правильно!\n"
          ]
        },
        {
          "output_type": "error",
          "ename": "TypeError",
          "evalue": "can only concatenate str (not \"int\") to str",
          "traceback": [
            "\u001b[0;31m---------------------------------------------------------------------------\u001b[0m",
            "\u001b[0;31mTypeError\u001b[0m                                 Traceback (most recent call last)",
            "\u001b[0;32m<ipython-input-5-b2a2a37ef281>\u001b[0m in \u001b[0;36m<cell line: 19>\u001b[0;34m()\u001b[0m\n\u001b[1;32m     17\u001b[0m      \u001b[0mprint\u001b[0m\u001b[0;34m(\u001b[0m\u001b[0;34m\"Правильно!\"\u001b[0m\u001b[0;34m)\u001b[0m\u001b[0;34m\u001b[0m\u001b[0;34m\u001b[0m\u001b[0m\n\u001b[1;32m     18\u001b[0m \u001b[0;34m\u001b[0m\u001b[0m\n\u001b[0;32m---> 19\u001b[0;31m \u001b[0mprint\u001b[0m\u001b[0;34m(\u001b[0m\u001b[0;34m\"Ты попробовал \"\u001b[0m \u001b[0;34m+\u001b[0m \u001b[0mAttempt\u001b[0m \u001b[0;34m+\u001b[0m \u001b[0;34m\" раз.\"\u001b[0m\u001b[0;34m)\u001b[0m\u001b[0;34m\u001b[0m\u001b[0;34m\u001b[0m\u001b[0m\n\u001b[0m\u001b[1;32m     20\u001b[0m \u001b[0;34m\u001b[0m\u001b[0m\n\u001b[1;32m     21\u001b[0m \u001b[0;34m\u001b[0m\u001b[0m\n",
            "\u001b[0;31mTypeError\u001b[0m: can only concatenate str (not \"int\") to str"
          ]
        }
      ],
      "source": [
        "import random\n",
        "Secret = \"Я задумал число от 1 до 10\"\n",
        "Case = random.randint(1,10)\n",
        "print(Secret)\n",
        "Attempt = 0\n",
        "Input = 0\n",
        "\n",
        "while Input != Case :\n",
        "  print(\"Угадай число: \", end=\"\")\n",
        "  Input = int(input())\n",
        "  Attempt = Attempt + 1\n",
        "  if Input < Case:\n",
        "     print(\"Слишком маленькое!\")\n",
        "  if Input > Case:\n",
        "     print(\"Слишком большое!\")\n",
        "  if Input == Case :\n",
        "     print(\"Правильно!\")\n",
        "\n",
        "print(\"Ты попробовал \" + Attempt + \" раз.\")\n",
        "\n",
        "\n"
      ]
    }
  ],
  "metadata": {
    "colab": {
      "provenance": []
    },
    "kernelspec": {
      "display_name": "Python 3 (ipykernel)",
      "language": "python",
      "name": "python3"
    },
    "language_info": {
      "codemirror_mode": {
        "name": "ipython",
        "version": 3
      },
      "file_extension": ".py",
      "mimetype": "text/x-python",
      "name": "python",
      "nbconvert_exporter": "python",
      "pygments_lexer": "ipython3",
      "version": "3.11.7"
    }
  },
  "nbformat": 4,
  "nbformat_minor": 0
}