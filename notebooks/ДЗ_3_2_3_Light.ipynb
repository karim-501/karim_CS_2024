{
  "cells": [
    {
      "cell_type": "markdown",
      "metadata": {
        "id": "MH-3kVwvJYeP"
      },
      "source": [
        "\n",
        "# 3.2.3 Уход от циклов: обработка данных с применением массивов"
      ]
    },
    {
      "cell_type": "markdown",
      "metadata": {
        "id": "gMwyKhlQJ1mf"
      },
      "source": [
        "## Задание 1"
      ]
    },
    {
      "cell_type": "markdown",
      "metadata": {
        "id": "Owu684lKKrjJ"
      },
      "source": [
        "**Условие:**\n",
        "Создайте случайный целочисленный массив ```ndarray``` из ```12``` элементов, принадлежащих отрезку ```[0,10]```. Сделайте две матрицы размера ```(3,4)``` с порядком следования элементов в стиле С и Fortran. Найдите поэлементное произведение этих матриц, а после - максимальный элемент в полученной матрице. Используйте ```np.random.seed(1000)``` перед генерацией массива для воспроизводимости результатов.\n",
        "\n",
        "**Формат ответа:**\n",
        "Число (например, ```25```)\n",
        "\n"
      ]
    },
    {
      "cell_type": "markdown",
      "metadata": {
        "id": "OCTvo3fHLaaJ"
      },
      "source": [
        "**Решение:**"
      ]
    },
    {
      "cell_type": "code",
      "execution_count": null,
      "metadata": {
        "colab": {
          "base_uri": "https://localhost:8080/"
        },
        "id": "f9_8IGndLeRO",
        "outputId": "e1eaea95-4265-4c3e-ea23-81766d0e738f"
      },
      "outputs": [
        {
          "output_type": "stream",
          "name": "stdout",
          "text": [
            "100\n"
          ]
        }
      ],
      "source": [
        "import numpy as np\n",
        "\n",
        "np.random.seed(1000)\n",
        "array = np.random.randint(0, 11, size=12)\n",
        "matrix_c = array.reshape(3, 4)\n",
        "\n",
        "matrix_f = np.reshape(array, (3, 4), order='F')\n",
        "result_matrix = np.multiply(matrix_c, matrix_f)\n",
        "max_element = np.max(result_matrix)\n",
        "\n",
        "print(max_element)"
      ]
    },
    {
      "cell_type": "markdown",
      "metadata": {
        "id": "g5S0h2-wKfGE"
      },
      "source": [
        "## Задание 2"
      ]
    },
    {
      "cell_type": "markdown",
      "metadata": {
        "id": "orX7BUzcPKKf"
      },
      "source": [
        "**Условие:**\n",
        "Создайте ```3``` случайных целочисленных массива ```ndarray``` размера ```(10,10)``` элементов, принадлежащих отрезку ```[0,10]```. Сделайте из данных массивов один трехмерный массив. Найдя размер полученного массива, вычислите количество элементов в нем. Используйте ```np.random.seed(1000)``` перед генерацией массива для воспроизводимости результатов.\n",
        "\n",
        "**Формат ответа:**\n",
        "Число (например, ```56```)\n"
      ]
    },
    {
      "cell_type": "markdown",
      "metadata": {
        "id": "ESSLfwqEPKKn"
      },
      "source": [
        "**Решение:**"
      ]
    },
    {
      "cell_type": "code",
      "execution_count": null,
      "metadata": {
        "colab": {
          "base_uri": "https://localhost:8080/"
        },
        "id": "y8HOlaNLPKKq",
        "outputId": "081a5e03-0d82-4144-8592-eb17913ed689"
      },
      "outputs": [
        {
          "output_type": "stream",
          "name": "stdout",
          "text": [
            "300\n"
          ]
        }
      ],
      "source": [
        "import numpy as np\n",
        "\n",
        "np.random.seed(1000)\n",
        "\n",
        "array1 = np.random.randint(0, 11, size=(10, 10))\n",
        "array2 = np.random.randint(0, 11, size=(10, 10))\n",
        "array3 = np.random.randint(0, 11, size=(10, 10))\n",
        "\n",
        "result_array = np.array([array1, array2, array3])\n",
        "\n",
        "shape_result_array = result_array.shape\n",
        "\n",
        "num_elements = np.prod(shape_result_array)\n",
        "\n",
        "print(num_elements)"
      ]
    },
    {
      "cell_type": "markdown",
      "metadata": {
        "id": "tq0Fcrg1KfXQ"
      },
      "source": [
        "## Задание 3"
      ]
    },
    {
      "cell_type": "markdown",
      "metadata": {
        "id": "3xp-jyyHPMIb"
      },
      "source": [
        "**Условие:**\n",
        "С использование методов ```ndarray``` сформируйте массив размера ```(20,2)```, в первом столбце которого идут целые числа, начиная с ```1```,а во втором - первые 20 нечетных чисел, начиная с ```3```. Найдите среднее значение второго столбца.\n",
        "\n",
        "**Формат ответа:**\n",
        "Число (например, ```34```)\n",
        "\n"
      ]
    },
    {
      "cell_type": "markdown",
      "metadata": {
        "id": "H5ZlBsI2PMIi"
      },
      "source": [
        "**Решение:**"
      ]
    },
    {
      "cell_type": "code",
      "execution_count": null,
      "metadata": {
        "colab": {
          "base_uri": "https://localhost:8080/"
        },
        "id": "6amsYUCoPMIn",
        "outputId": "7cbd9b4b-4dc2-46c7-e8ce-1b5a8fa5cf70"
      },
      "outputs": [
        {
          "output_type": "stream",
          "name": "stdout",
          "text": [
            "22.0\n"
          ]
        }
      ],
      "source": [
        "import numpy as np\n",
        "\n",
        "first_column = np.arange(1, 21).reshape(-1, 1)\n",
        "\n",
        "second_column = np.arange(3, 3 + 2 * 20, 2).reshape(-1, 1)\n",
        "\n",
        "\n",
        "array = np.hstack((first_column, second_column))\n",
        "mean_second_column = np.mean(array[:, 1])\n",
        "\n",
        "\n",
        "print(mean_second_column)"
      ]
    }
  ],
  "metadata": {
    "colab": {
      "provenance": []
    },
    "kernelspec": {
      "display_name": "Python 3 (ipykernel)",
      "language": "python",
      "name": "python3"
    },
    "language_info": {
      "codemirror_mode": {
        "name": "ipython",
        "version": 3
      },
      "file_extension": ".py",
      "mimetype": "text/x-python",
      "name": "python",
      "nbconvert_exporter": "python",
      "pygments_lexer": "ipython3",
      "version": "3.11.7"
    }
  },
  "nbformat": 4,
  "nbformat_minor": 0
}