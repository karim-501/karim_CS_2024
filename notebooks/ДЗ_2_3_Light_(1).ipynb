{
  "cells": [
    {
      "cell_type": "markdown",
      "metadata": {
        "id": "MH-3kVwvJYeP"
      },
      "source": [
        "# 2.3 Типы коллекций. Последовательности, множества, отображения"
      ]
    },
    {
      "cell_type": "markdown",
      "metadata": {
        "id": "gMwyKhlQJ1mf"
      },
      "source": [
        "## Задание 1"
      ]
    },
    {
      "cell_type": "markdown",
      "metadata": {
        "id": "Owu684lKKrjJ"
      },
      "source": [
        "**Условие:**\n",
        "Создайте кортеж из ```10```  произвольных значений. Выведите элементы кортежа по целым положительным индексам и по целым отрицательным индексам.\n"
      ]
    },
    {
      "cell_type": "markdown",
      "metadata": {
        "id": "OCTvo3fHLaaJ"
      },
      "source": [
        "**Решение:**"
      ]
    },
    {
      "cell_type": "code",
      "execution_count": null,
      "metadata": {
        "colab": {
          "base_uri": "https://localhost:8080/"
        },
        "id": "f9_8IGndLeRO",
        "outputId": "3eecad89-308e-4d23-f04c-25e34cd80319"
      },
      "outputs": [
        {
          "output_type": "stream",
          "name": "stdout",
          "text": [
            "Элемент с индексом 0 : sobaka\n",
            "Элемент с индексом 1 : 123\n",
            "Элемент с индексом 2 : True\n",
            "Элемент с индексом 3 : [1, 2, 3]\n",
            "Элемент с индексом 4 : kowka\n",
            "Элемент с индексом 5 : 3.14\n",
            "Элемент с индексом 6 : None\n",
            "Элемент с индексом 7 : olen\n",
            "Элемент с индексом 8 : 2024\n",
            "Элемент с индексом 9 : {'key': 'value'}\n",
            "Элемент с индексом -10 : sobaka\n",
            "Элемент с индексом -9 : 123\n",
            "Элемент с индексом -8 : True\n",
            "Элемент с индексом -7 : [1, 2, 3]\n",
            "Элемент с индексом -6 : kowka\n",
            "Элемент с индексом -5 : 3.14\n",
            "Элемент с индексом -4 : None\n",
            "Элемент с индексом -3 : olen\n",
            "Элемент с индексом -2 : 2024\n",
            "Элемент с индексом -1 : {'key': 'value'}\n"
          ]
        }
      ],
      "source": [
        "kortej = (\"sobaka\", 123, True, [1, 2, 3], \"kowka\", 3.14, None, \"olen\", 2024, {\"key\": \"value\"})\n",
        "for i in range(len(kortej)):\n",
        "    print(\"Элемент с индексом\", i, \":\", kortej[i])\n",
        "for i in range(-len(kortej), 0):\n",
        "    print(\"Элемент с индексом\", i, \":\", kortej[i])"
      ]
    },
    {
      "cell_type": "markdown",
      "metadata": {
        "id": "g5S0h2-wKfGE"
      },
      "source": [
        "## Задание 2"
      ]
    },
    {
      "cell_type": "markdown",
      "metadata": {
        "id": "orX7BUzcPKKf"
      },
      "source": [
        "**Условие:**\n",
        "Создайте список из ```10``` последовательных чисел. Прибавьте ```1``` к значениям списка, проходя по нему в цикле."
      ]
    },
    {
      "cell_type": "markdown",
      "metadata": {
        "id": "ESSLfwqEPKKn"
      },
      "source": [
        "**Решение:**"
      ]
    },
    {
      "cell_type": "code",
      "execution_count": null,
      "metadata": {
        "colab": {
          "base_uri": "https://localhost:8080/"
        },
        "id": "y8HOlaNLPKKq",
        "outputId": "5af4e26f-f564-4cc1-93bf-f5cc07de0e01"
      },
      "outputs": [
        {
          "output_type": "stream",
          "name": "stdout",
          "text": [
            "[2, 3, 4, 5, 6, 7, 8, 9, 10, 11]\n"
          ]
        }
      ],
      "source": [
        "spisok = list(range(1, 11))\n",
        "for i in range(len(spisok)):\n",
        "    spisok[i] += 1\n",
        "print(spisok)"
      ]
    },
    {
      "cell_type": "markdown",
      "metadata": {
        "id": "tq0Fcrg1KfXQ"
      },
      "source": [
        "## Задание 3"
      ]
    },
    {
      "cell_type": "markdown",
      "metadata": {
        "id": "3xp-jyyHPMIb"
      },
      "source": [
        "**Условие:**\n",
        "Создайте словарь из ```5``` сотрудников, где ключ - это имя сотрудника, а значение - его заработная плата.\n"
      ]
    },
    {
      "cell_type": "markdown",
      "metadata": {
        "id": "H5ZlBsI2PMIi"
      },
      "source": [
        "**Решение:**"
      ]
    },
    {
      "cell_type": "code",
      "execution_count": null,
      "metadata": {
        "colab": {
          "base_uri": "https://localhost:8080/"
        },
        "id": "6amsYUCoPMIn",
        "outputId": "708b6741-6a4b-4ddc-904c-b88682c90c0b"
      },
      "outputs": [
        {
          "output_type": "stream",
          "name": "stdout",
          "text": [
            "{'Dimon': 50000, 'Andruxa': 60000, 'Tima': 70000, 'Ali': 80000, 'Karim': 90000}\n"
          ]
        }
      ],
      "source": [
        "zp = {\n",
        "    \"Dimon\": 50000,\n",
        "    \"Andruxa\": 60000,\n",
        "    \"Tima\": 70000,\n",
        "    \"Ali\": 80000,\n",
        "    \"Karim\": 90000,\n",
        "}\n",
        "\n",
        "print(zp)"
      ]
    }
  ],
  "metadata": {
    "colab": {
      "provenance": []
    },
    "kernelspec": {
      "display_name": "Python 3 (ipykernel)",
      "language": "python",
      "name": "python3"
    },
    "language_info": {
      "codemirror_mode": {
        "name": "ipython",
        "version": 3
      },
      "file_extension": ".py",
      "mimetype": "text/x-python",
      "name": "python",
      "nbconvert_exporter": "python",
      "pygments_lexer": "ipython3",
      "version": "3.11.7"
    }
  },
  "nbformat": 4,
  "nbformat_minor": 0
}